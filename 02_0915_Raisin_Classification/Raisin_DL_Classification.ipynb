{
 "cells": [
  {
   "cell_type": "code",
   "execution_count": 5,
   "metadata": {},
   "outputs": [],
   "source": [
    "import pandas as pd\n",
    "import numpy as np"
   ]
  },
  {
   "cell_type": "code",
   "execution_count": 6,
   "metadata": {},
   "outputs": [
    {
     "data": {
      "text/html": [
       "<div>\n",
       "<style scoped>\n",
       "    .dataframe tbody tr th:only-of-type {\n",
       "        vertical-align: middle;\n",
       "    }\n",
       "\n",
       "    .dataframe tbody tr th {\n",
       "        vertical-align: top;\n",
       "    }\n",
       "\n",
       "    .dataframe thead th {\n",
       "        text-align: right;\n",
       "    }\n",
       "</style>\n",
       "<table border=\"1\" class=\"dataframe\">\n",
       "  <thead>\n",
       "    <tr style=\"text-align: right;\">\n",
       "      <th></th>\n",
       "      <th>Area</th>\n",
       "      <th>MajorAxisLength</th>\n",
       "      <th>MinorAxisLength</th>\n",
       "      <th>Eccentricity</th>\n",
       "      <th>ConvexArea</th>\n",
       "      <th>Extent</th>\n",
       "      <th>Perimeter</th>\n",
       "      <th>Class</th>\n",
       "    </tr>\n",
       "  </thead>\n",
       "  <tbody>\n",
       "    <tr>\n",
       "      <th>0</th>\n",
       "      <td>87524</td>\n",
       "      <td>442.246011</td>\n",
       "      <td>253.291155</td>\n",
       "      <td>0.819738</td>\n",
       "      <td>90546</td>\n",
       "      <td>0.758651</td>\n",
       "      <td>1184.040</td>\n",
       "      <td>Kecimen</td>\n",
       "    </tr>\n",
       "    <tr>\n",
       "      <th>1</th>\n",
       "      <td>75166</td>\n",
       "      <td>406.690687</td>\n",
       "      <td>243.032436</td>\n",
       "      <td>0.801805</td>\n",
       "      <td>78789</td>\n",
       "      <td>0.684130</td>\n",
       "      <td>1121.786</td>\n",
       "      <td>Kecimen</td>\n",
       "    </tr>\n",
       "    <tr>\n",
       "      <th>2</th>\n",
       "      <td>90856</td>\n",
       "      <td>442.267048</td>\n",
       "      <td>266.328318</td>\n",
       "      <td>0.798354</td>\n",
       "      <td>93717</td>\n",
       "      <td>0.637613</td>\n",
       "      <td>1208.575</td>\n",
       "      <td>Kecimen</td>\n",
       "    </tr>\n",
       "    <tr>\n",
       "      <th>3</th>\n",
       "      <td>45928</td>\n",
       "      <td>286.540559</td>\n",
       "      <td>208.760042</td>\n",
       "      <td>0.684989</td>\n",
       "      <td>47336</td>\n",
       "      <td>0.699599</td>\n",
       "      <td>844.162</td>\n",
       "      <td>Kecimen</td>\n",
       "    </tr>\n",
       "    <tr>\n",
       "      <th>4</th>\n",
       "      <td>79408</td>\n",
       "      <td>352.190770</td>\n",
       "      <td>290.827533</td>\n",
       "      <td>0.564011</td>\n",
       "      <td>81463</td>\n",
       "      <td>0.792772</td>\n",
       "      <td>1073.251</td>\n",
       "      <td>Kecimen</td>\n",
       "    </tr>\n",
       "  </tbody>\n",
       "</table>\n",
       "</div>"
      ],
      "text/plain": [
       "    Area  MajorAxisLength  MinorAxisLength  Eccentricity  ConvexArea  \\\n",
       "0  87524       442.246011       253.291155      0.819738       90546   \n",
       "1  75166       406.690687       243.032436      0.801805       78789   \n",
       "2  90856       442.267048       266.328318      0.798354       93717   \n",
       "3  45928       286.540559       208.760042      0.684989       47336   \n",
       "4  79408       352.190770       290.827533      0.564011       81463   \n",
       "\n",
       "     Extent  Perimeter    Class  \n",
       "0  0.758651   1184.040  Kecimen  \n",
       "1  0.684130   1121.786  Kecimen  \n",
       "2  0.637613   1208.575  Kecimen  \n",
       "3  0.699599    844.162  Kecimen  \n",
       "4  0.792772   1073.251  Kecimen  "
      ]
     },
     "execution_count": 6,
     "metadata": {},
     "output_type": "execute_result"
    }
   ],
   "source": [
    "df = pd.read_excel('Raisin_Dataset.xlsx')\n",
    "df.head()"
   ]
  },
  {
   "cell_type": "code",
   "execution_count": 7,
   "metadata": {},
   "outputs": [
    {
     "name": "stdout",
     "output_type": "stream",
     "text": [
      "Area               0\n",
      "MajorAxisLength    0\n",
      "MinorAxisLength    0\n",
      "Eccentricity       0\n",
      "ConvexArea         0\n",
      "Extent             0\n",
      "Perimeter          0\n",
      "Class              0\n",
      "dtype: int64\n"
     ]
    }
   ],
   "source": [
    "missing_values = df.isna().sum()\n",
    "print (missing_values)\n",
    "\n",
    "df = df.dropna()"
   ]
  },
  {
   "cell_type": "code",
   "execution_count": 8,
   "metadata": {},
   "outputs": [
    {
     "name": "stdout",
     "output_type": "stream",
     "text": [
      "Class\n",
      "Besni      450\n",
      "Kecimen    450\n",
      "dtype: int64\n"
     ]
    }
   ],
   "source": [
    "class_counts = df.groupby('Class').size()\n",
    "print(class_counts)"
   ]
  },
  {
   "cell_type": "code",
   "execution_count": 9,
   "metadata": {},
   "outputs": [],
   "source": [
    "target = df.Class"
   ]
  },
  {
   "cell_type": "code",
   "execution_count": 10,
   "metadata": {},
   "outputs": [],
   "source": [
    "target_encoding = pd.get_dummies(target)"
   ]
  },
  {
   "cell_type": "code",
   "execution_count": 11,
   "metadata": {},
   "outputs": [
    {
     "data": {
      "text/html": [
       "<div>\n",
       "<style scoped>\n",
       "    .dataframe tbody tr th:only-of-type {\n",
       "        vertical-align: middle;\n",
       "    }\n",
       "\n",
       "    .dataframe tbody tr th {\n",
       "        vertical-align: top;\n",
       "    }\n",
       "\n",
       "    .dataframe thead th {\n",
       "        text-align: right;\n",
       "    }\n",
       "</style>\n",
       "<table border=\"1\" class=\"dataframe\">\n",
       "  <thead>\n",
       "    <tr style=\"text-align: right;\">\n",
       "      <th></th>\n",
       "      <th>Besni</th>\n",
       "      <th>Kecimen</th>\n",
       "    </tr>\n",
       "  </thead>\n",
       "  <tbody>\n",
       "    <tr>\n",
       "      <th>0</th>\n",
       "      <td>False</td>\n",
       "      <td>True</td>\n",
       "    </tr>\n",
       "    <tr>\n",
       "      <th>1</th>\n",
       "      <td>False</td>\n",
       "      <td>True</td>\n",
       "    </tr>\n",
       "    <tr>\n",
       "      <th>2</th>\n",
       "      <td>False</td>\n",
       "      <td>True</td>\n",
       "    </tr>\n",
       "    <tr>\n",
       "      <th>3</th>\n",
       "      <td>False</td>\n",
       "      <td>True</td>\n",
       "    </tr>\n",
       "    <tr>\n",
       "      <th>4</th>\n",
       "      <td>False</td>\n",
       "      <td>True</td>\n",
       "    </tr>\n",
       "    <tr>\n",
       "      <th>...</th>\n",
       "      <td>...</td>\n",
       "      <td>...</td>\n",
       "    </tr>\n",
       "    <tr>\n",
       "      <th>895</th>\n",
       "      <td>True</td>\n",
       "      <td>False</td>\n",
       "    </tr>\n",
       "    <tr>\n",
       "      <th>896</th>\n",
       "      <td>True</td>\n",
       "      <td>False</td>\n",
       "    </tr>\n",
       "    <tr>\n",
       "      <th>897</th>\n",
       "      <td>True</td>\n",
       "      <td>False</td>\n",
       "    </tr>\n",
       "    <tr>\n",
       "      <th>898</th>\n",
       "      <td>True</td>\n",
       "      <td>False</td>\n",
       "    </tr>\n",
       "    <tr>\n",
       "      <th>899</th>\n",
       "      <td>True</td>\n",
       "      <td>False</td>\n",
       "    </tr>\n",
       "  </tbody>\n",
       "</table>\n",
       "<p>900 rows × 2 columns</p>\n",
       "</div>"
      ],
      "text/plain": [
       "     Besni  Kecimen\n",
       "0    False     True\n",
       "1    False     True\n",
       "2    False     True\n",
       "3    False     True\n",
       "4    False     True\n",
       "..     ...      ...\n",
       "895   True    False\n",
       "896   True    False\n",
       "897   True    False\n",
       "898   True    False\n",
       "899   True    False\n",
       "\n",
       "[900 rows x 2 columns]"
      ]
     },
     "execution_count": 11,
     "metadata": {},
     "output_type": "execute_result"
    }
   ],
   "source": [
    "target_encoding"
   ]
  },
  {
   "cell_type": "code",
   "execution_count": 12,
   "metadata": {},
   "outputs": [],
   "source": [
    "x = df.drop(columns=['Class']).values\n",
    "y = target_encoding"
   ]
  },
  {
   "cell_type": "code",
   "execution_count": 13,
   "metadata": {},
   "outputs": [
    {
     "data": {
      "text/plain": [
       "(900, 7)"
      ]
     },
     "execution_count": 13,
     "metadata": {},
     "output_type": "execute_result"
    }
   ],
   "source": [
    "x.shape"
   ]
  },
  {
   "cell_type": "code",
   "execution_count": 14,
   "metadata": {},
   "outputs": [],
   "source": [
    "from sklearn.model_selection import train_test_split\n",
    "X_train,X_test,y_train,y_test=train_test_split(x,y,test_size=0.2,random_state=423)"
   ]
  },
  {
   "cell_type": "code",
   "execution_count": 15,
   "metadata": {},
   "outputs": [
    {
     "name": "stderr",
     "output_type": "stream",
     "text": [
      "WARNING:absl:`lr` is deprecated in Keras optimizer, please use `learning_rate` or use the legacy optimizer, e.g.,tf.keras.optimizers.legacy.Adam.\n"
     ]
    },
    {
     "name": "stdout",
     "output_type": "stream",
     "text": [
      "Model: \"sequential_2\"\n",
      "_________________________________________________________________\n",
      " Layer (type)                Output Shape              Param #   \n",
      "=================================================================\n",
      " dense_2 (Dense)             (None, 7)                 56        \n",
      "                                                                 \n",
      " dense_3 (Dense)             (None, 7)                 56        \n",
      "                                                                 \n",
      " dense_4 (Dense)             (None, 7)                 56        \n",
      "                                                                 \n",
      " dense_5 (Dense)             (None, 2)                 16        \n",
      "                                                                 \n",
      "=================================================================\n",
      "Total params: 184 (736.00 Byte)\n",
      "Trainable params: 184 (736.00 Byte)\n",
      "Non-trainable params: 0 (0.00 Byte)\n",
      "_________________________________________________________________\n"
     ]
    }
   ],
   "source": [
    "from keras.models import Sequential\n",
    "from keras.layers import Dense\n",
    "from keras.optimizers import Adam\n",
    "\n",
    "model = Sequential()\n",
    "\n",
    "model.add(Dense(7, input_shape=(7,), activation='relu'))\n",
    "model.add(Dense(7, activation='relu'))\n",
    "model.add(Dense(7, activation='relu'))\n",
    "model.add(Dense(2, activation='softmax'))\n",
    "\n",
    "model.compile(optimizer=Adam(lr=0.02), loss='binary_crossentropy', metrics=['accuracy'])\n",
    "\n",
    "model.summary()\n"
   ]
  },
  {
   "cell_type": "code",
   "execution_count": 16,
   "metadata": {},
   "outputs": [
    {
     "name": "stdout",
     "output_type": "stream",
     "text": [
      "Epoch 1/100\n",
      "23/23 [==============================] - 1s 8ms/step - loss: 1365.6947 - accuracy: 0.5153 - val_loss: 648.1227 - val_accuracy: 0.5500\n",
      "Epoch 2/100\n",
      "23/23 [==============================] - 0s 2ms/step - loss: 611.6149 - accuracy: 0.4833 - val_loss: 341.0285 - val_accuracy: 0.5500\n",
      "Epoch 3/100\n",
      "23/23 [==============================] - 0s 2ms/step - loss: 248.9831 - accuracy: 0.4750 - val_loss: 68.1043 - val_accuracy: 0.4389\n",
      "Epoch 4/100\n",
      "23/23 [==============================] - 0s 2ms/step - loss: 88.4410 - accuracy: 0.4347 - val_loss: 62.9008 - val_accuracy: 0.4611\n",
      "Epoch 5/100\n",
      "23/23 [==============================] - 0s 2ms/step - loss: 86.9919 - accuracy: 0.4653 - val_loss: 73.4247 - val_accuracy: 0.4889\n",
      "Epoch 6/100\n",
      "23/23 [==============================] - 0s 2ms/step - loss: 92.1284 - accuracy: 0.4694 - val_loss: 67.6871 - val_accuracy: 0.4833\n",
      "Epoch 7/100\n",
      "23/23 [==============================] - 0s 2ms/step - loss: 86.9437 - accuracy: 0.4792 - val_loss: 96.7577 - val_accuracy: 0.4778\n",
      "Epoch 8/100\n",
      "23/23 [==============================] - 0s 2ms/step - loss: 83.4540 - accuracy: 0.4806 - val_loss: 60.3949 - val_accuracy: 0.4611\n",
      "Epoch 9/100\n",
      "23/23 [==============================] - 0s 2ms/step - loss: 76.6830 - accuracy: 0.4542 - val_loss: 66.1258 - val_accuracy: 0.4389\n",
      "Epoch 10/100\n",
      "23/23 [==============================] - 0s 2ms/step - loss: 77.6156 - accuracy: 0.4736 - val_loss: 60.1880 - val_accuracy: 0.4611\n",
      "Epoch 11/100\n",
      "23/23 [==============================] - 0s 2ms/step - loss: 82.5866 - accuracy: 0.4569 - val_loss: 63.3618 - val_accuracy: 0.4278\n",
      "Epoch 12/100\n",
      "23/23 [==============================] - 0s 2ms/step - loss: 79.5402 - accuracy: 0.4431 - val_loss: 57.9500 - val_accuracy: 0.4556\n",
      "Epoch 13/100\n",
      "23/23 [==============================] - 0s 2ms/step - loss: 75.9144 - accuracy: 0.4375 - val_loss: 58.2511 - val_accuracy: 0.4611\n",
      "Epoch 14/100\n",
      "23/23 [==============================] - 0s 2ms/step - loss: 74.7965 - accuracy: 0.4625 - val_loss: 75.6588 - val_accuracy: 0.4667\n",
      "Epoch 15/100\n",
      "23/23 [==============================] - 0s 2ms/step - loss: 75.9560 - accuracy: 0.4750 - val_loss: 56.3413 - val_accuracy: 0.4722\n",
      "Epoch 16/100\n",
      "23/23 [==============================] - 0s 2ms/step - loss: 70.9345 - accuracy: 0.4583 - val_loss: 55.7657 - val_accuracy: 0.4667\n",
      "Epoch 17/100\n",
      "23/23 [==============================] - 0s 2ms/step - loss: 73.8302 - accuracy: 0.4778 - val_loss: 58.2810 - val_accuracy: 0.4944\n",
      "Epoch 18/100\n",
      "23/23 [==============================] - 0s 2ms/step - loss: 77.3716 - accuracy: 0.4917 - val_loss: 59.9863 - val_accuracy: 0.4944\n",
      "Epoch 19/100\n",
      "23/23 [==============================] - 0s 2ms/step - loss: 76.4661 - accuracy: 0.4931 - val_loss: 67.1524 - val_accuracy: 0.4722\n",
      "Epoch 20/100\n",
      "23/23 [==============================] - 0s 2ms/step - loss: 73.3351 - accuracy: 0.4778 - val_loss: 54.2792 - val_accuracy: 0.4667\n",
      "Epoch 21/100\n",
      "23/23 [==============================] - 0s 2ms/step - loss: 79.3626 - accuracy: 0.4875 - val_loss: 66.6346 - val_accuracy: 0.4833\n",
      "Epoch 22/100\n",
      "23/23 [==============================] - 0s 2ms/step - loss: 69.8997 - accuracy: 0.4903 - val_loss: 58.3612 - val_accuracy: 0.4611\n",
      "Epoch 23/100\n",
      "23/23 [==============================] - 0s 2ms/step - loss: 75.0265 - accuracy: 0.4917 - val_loss: 56.5318 - val_accuracy: 0.5000\n",
      "Epoch 24/100\n",
      "23/23 [==============================] - 0s 2ms/step - loss: 70.3760 - accuracy: 0.4847 - val_loss: 53.1639 - val_accuracy: 0.4778\n",
      "Epoch 25/100\n",
      "23/23 [==============================] - 0s 2ms/step - loss: 67.7882 - accuracy: 0.4694 - val_loss: 64.8753 - val_accuracy: 0.5056\n",
      "Epoch 26/100\n",
      "23/23 [==============================] - 0s 2ms/step - loss: 70.8677 - accuracy: 0.4806 - val_loss: 51.7817 - val_accuracy: 0.4778\n",
      "Epoch 27/100\n",
      "23/23 [==============================] - 0s 2ms/step - loss: 66.1782 - accuracy: 0.4833 - val_loss: 51.0234 - val_accuracy: 0.4778\n",
      "Epoch 28/100\n",
      "23/23 [==============================] - 0s 3ms/step - loss: 65.9493 - accuracy: 0.5139 - val_loss: 49.6445 - val_accuracy: 0.4778\n",
      "Epoch 29/100\n",
      "23/23 [==============================] - 0s 2ms/step - loss: 75.8482 - accuracy: 0.4847 - val_loss: 49.2159 - val_accuracy: 0.4722\n",
      "Epoch 30/100\n",
      "23/23 [==============================] - 0s 2ms/step - loss: 67.1481 - accuracy: 0.4764 - val_loss: 53.2928 - val_accuracy: 0.5000\n",
      "Epoch 31/100\n",
      "23/23 [==============================] - 0s 2ms/step - loss: 74.1261 - accuracy: 0.4750 - val_loss: 48.3097 - val_accuracy: 0.4889\n",
      "Epoch 32/100\n",
      "23/23 [==============================] - 0s 2ms/step - loss: 67.8023 - accuracy: 0.5125 - val_loss: 57.6567 - val_accuracy: 0.5056\n",
      "Epoch 33/100\n",
      "23/23 [==============================] - 0s 2ms/step - loss: 70.3205 - accuracy: 0.4792 - val_loss: 54.9589 - val_accuracy: 0.4889\n",
      "Epoch 34/100\n",
      "23/23 [==============================] - 0s 2ms/step - loss: 64.7212 - accuracy: 0.4847 - val_loss: 46.9434 - val_accuracy: 0.4833\n",
      "Epoch 35/100\n",
      "23/23 [==============================] - 0s 2ms/step - loss: 67.9313 - accuracy: 0.4972 - val_loss: 60.1116 - val_accuracy: 0.5056\n",
      "Epoch 36/100\n",
      "23/23 [==============================] - 0s 2ms/step - loss: 66.5723 - accuracy: 0.5125 - val_loss: 57.5087 - val_accuracy: 0.5111\n",
      "Epoch 37/100\n",
      "23/23 [==============================] - 0s 2ms/step - loss: 64.0771 - accuracy: 0.4903 - val_loss: 48.3788 - val_accuracy: 0.5000\n",
      "Epoch 38/100\n",
      "23/23 [==============================] - 0s 2ms/step - loss: 63.2548 - accuracy: 0.5056 - val_loss: 45.3457 - val_accuracy: 0.4833\n",
      "Epoch 39/100\n",
      "23/23 [==============================] - 0s 2ms/step - loss: 61.3256 - accuracy: 0.4833 - val_loss: 54.8687 - val_accuracy: 0.5222\n",
      "Epoch 40/100\n",
      "23/23 [==============================] - 0s 2ms/step - loss: 61.1229 - accuracy: 0.5194 - val_loss: 48.8575 - val_accuracy: 0.5111\n",
      "Epoch 41/100\n",
      "23/23 [==============================] - 0s 2ms/step - loss: 63.9549 - accuracy: 0.5222 - val_loss: 45.5568 - val_accuracy: 0.4889\n",
      "Epoch 42/100\n",
      "23/23 [==============================] - 0s 2ms/step - loss: 73.5768 - accuracy: 0.5125 - val_loss: 45.7997 - val_accuracy: 0.4944\n",
      "Epoch 43/100\n",
      "23/23 [==============================] - 0s 2ms/step - loss: 56.1863 - accuracy: 0.5097 - val_loss: 43.7853 - val_accuracy: 0.4944\n",
      "Epoch 44/100\n",
      "23/23 [==============================] - 0s 2ms/step - loss: 54.9973 - accuracy: 0.5236 - val_loss: 47.2613 - val_accuracy: 0.5167\n",
      "Epoch 45/100\n",
      "23/23 [==============================] - 0s 2ms/step - loss: 59.2504 - accuracy: 0.5111 - val_loss: 45.3399 - val_accuracy: 0.4778\n",
      "Epoch 46/100\n",
      "23/23 [==============================] - 0s 2ms/step - loss: 57.5524 - accuracy: 0.5042 - val_loss: 48.3051 - val_accuracy: 0.5167\n",
      "Epoch 47/100\n",
      "23/23 [==============================] - 0s 2ms/step - loss: 69.2953 - accuracy: 0.5250 - val_loss: 51.8354 - val_accuracy: 0.5222\n",
      "Epoch 48/100\n",
      "23/23 [==============================] - 0s 2ms/step - loss: 80.4099 - accuracy: 0.5028 - val_loss: 41.3801 - val_accuracy: 0.5000\n",
      "Epoch 49/100\n",
      "23/23 [==============================] - 0s 2ms/step - loss: 63.0726 - accuracy: 0.5250 - val_loss: 52.3173 - val_accuracy: 0.5111\n",
      "Epoch 50/100\n",
      "23/23 [==============================] - 0s 2ms/step - loss: 60.3908 - accuracy: 0.5014 - val_loss: 48.7009 - val_accuracy: 0.5389\n",
      "Epoch 51/100\n",
      "23/23 [==============================] - 0s 2ms/step - loss: 61.1130 - accuracy: 0.5292 - val_loss: 46.1751 - val_accuracy: 0.5167\n",
      "Epoch 52/100\n",
      "23/23 [==============================] - 0s 2ms/step - loss: 58.5883 - accuracy: 0.5361 - val_loss: 40.0048 - val_accuracy: 0.4944\n",
      "Epoch 53/100\n",
      "23/23 [==============================] - 0s 2ms/step - loss: 55.2216 - accuracy: 0.5472 - val_loss: 43.4152 - val_accuracy: 0.5222\n",
      "Epoch 54/100\n",
      "23/23 [==============================] - 0s 2ms/step - loss: 54.8024 - accuracy: 0.5250 - val_loss: 54.6986 - val_accuracy: 0.5167\n",
      "Epoch 55/100\n",
      "23/23 [==============================] - 0s 2ms/step - loss: 64.5944 - accuracy: 0.5194 - val_loss: 54.5839 - val_accuracy: 0.5389\n",
      "Epoch 56/100\n",
      "23/23 [==============================] - 0s 2ms/step - loss: 52.2387 - accuracy: 0.5222 - val_loss: 38.8073 - val_accuracy: 0.5056\n",
      "Epoch 57/100\n",
      "23/23 [==============================] - 0s 2ms/step - loss: 61.0553 - accuracy: 0.5292 - val_loss: 44.8818 - val_accuracy: 0.5222\n",
      "Epoch 58/100\n",
      "23/23 [==============================] - 0s 2ms/step - loss: 64.1423 - accuracy: 0.5139 - val_loss: 38.1764 - val_accuracy: 0.5000\n",
      "Epoch 59/100\n",
      "23/23 [==============================] - 0s 2ms/step - loss: 52.3923 - accuracy: 0.5153 - val_loss: 51.5991 - val_accuracy: 0.5167\n",
      "Epoch 60/100\n",
      "23/23 [==============================] - 0s 2ms/step - loss: 53.7183 - accuracy: 0.5139 - val_loss: 38.2415 - val_accuracy: 0.4889\n",
      "Epoch 61/100\n",
      "23/23 [==============================] - 0s 2ms/step - loss: 53.5130 - accuracy: 0.5389 - val_loss: 39.7482 - val_accuracy: 0.5167\n",
      "Epoch 62/100\n",
      "23/23 [==============================] - 0s 2ms/step - loss: 53.7341 - accuracy: 0.5236 - val_loss: 48.7369 - val_accuracy: 0.5167\n",
      "Epoch 63/100\n",
      "23/23 [==============================] - 0s 2ms/step - loss: 49.6168 - accuracy: 0.5319 - val_loss: 37.2730 - val_accuracy: 0.4944\n",
      "Epoch 64/100\n",
      "23/23 [==============================] - 0s 2ms/step - loss: 53.0848 - accuracy: 0.5111 - val_loss: 41.4340 - val_accuracy: 0.5389\n",
      "Epoch 65/100\n",
      "23/23 [==============================] - 0s 2ms/step - loss: 47.5370 - accuracy: 0.5278 - val_loss: 35.5512 - val_accuracy: 0.5167\n",
      "Epoch 66/100\n",
      "23/23 [==============================] - 0s 2ms/step - loss: 50.4539 - accuracy: 0.5444 - val_loss: 35.2740 - val_accuracy: 0.5222\n",
      "Epoch 67/100\n",
      "23/23 [==============================] - 0s 2ms/step - loss: 47.9532 - accuracy: 0.5236 - val_loss: 44.7499 - val_accuracy: 0.5333\n",
      "Epoch 68/100\n",
      "23/23 [==============================] - 0s 2ms/step - loss: 58.4145 - accuracy: 0.5250 - val_loss: 34.9039 - val_accuracy: 0.5167\n",
      "Epoch 69/100\n",
      "23/23 [==============================] - 0s 2ms/step - loss: 46.0684 - accuracy: 0.5403 - val_loss: 34.4178 - val_accuracy: 0.5167\n",
      "Epoch 70/100\n",
      "23/23 [==============================] - 0s 2ms/step - loss: 46.5432 - accuracy: 0.5333 - val_loss: 39.3637 - val_accuracy: 0.5444\n",
      "Epoch 71/100\n",
      "23/23 [==============================] - 0s 2ms/step - loss: 46.0465 - accuracy: 0.5514 - val_loss: 37.3470 - val_accuracy: 0.5278\n",
      "Epoch 72/100\n",
      "23/23 [==============================] - 0s 2ms/step - loss: 45.4113 - accuracy: 0.5125 - val_loss: 36.7232 - val_accuracy: 0.5333\n",
      "Epoch 73/100\n",
      "23/23 [==============================] - 0s 2ms/step - loss: 49.1408 - accuracy: 0.5361 - val_loss: 38.4377 - val_accuracy: 0.5278\n",
      "Epoch 74/100\n",
      "23/23 [==============================] - 0s 2ms/step - loss: 45.0045 - accuracy: 0.5236 - val_loss: 35.9789 - val_accuracy: 0.5333\n",
      "Epoch 75/100\n",
      "23/23 [==============================] - 0s 2ms/step - loss: 51.3410 - accuracy: 0.5333 - val_loss: 49.6299 - val_accuracy: 0.5389\n",
      "Epoch 76/100\n",
      "23/23 [==============================] - 0s 2ms/step - loss: 43.1066 - accuracy: 0.5500 - val_loss: 32.0129 - val_accuracy: 0.5389\n",
      "Epoch 77/100\n",
      "23/23 [==============================] - 0s 2ms/step - loss: 42.5943 - accuracy: 0.5569 - val_loss: 33.1624 - val_accuracy: 0.5278\n",
      "Epoch 78/100\n",
      "23/23 [==============================] - 0s 2ms/step - loss: 43.3058 - accuracy: 0.5528 - val_loss: 35.5157 - val_accuracy: 0.5389\n",
      "Epoch 79/100\n",
      "23/23 [==============================] - 0s 2ms/step - loss: 46.3114 - accuracy: 0.5417 - val_loss: 33.2945 - val_accuracy: 0.5222\n",
      "Epoch 80/100\n",
      "23/23 [==============================] - 0s 2ms/step - loss: 42.7919 - accuracy: 0.5403 - val_loss: 31.0215 - val_accuracy: 0.5444\n",
      "Epoch 81/100\n",
      "23/23 [==============================] - 0s 3ms/step - loss: 47.1363 - accuracy: 0.5292 - val_loss: 31.8620 - val_accuracy: 0.5278\n",
      "Epoch 82/100\n",
      "23/23 [==============================] - 0s 2ms/step - loss: 40.6217 - accuracy: 0.5472 - val_loss: 30.1943 - val_accuracy: 0.5278\n",
      "Epoch 83/100\n",
      "23/23 [==============================] - 0s 2ms/step - loss: 39.7764 - accuracy: 0.5625 - val_loss: 32.6627 - val_accuracy: 0.5333\n",
      "Epoch 84/100\n",
      "23/23 [==============================] - 0s 2ms/step - loss: 44.2166 - accuracy: 0.5250 - val_loss: 32.8907 - val_accuracy: 0.5333\n",
      "Epoch 85/100\n",
      "23/23 [==============================] - 0s 2ms/step - loss: 41.9263 - accuracy: 0.5500 - val_loss: 29.9326 - val_accuracy: 0.5222\n",
      "Epoch 86/100\n",
      "23/23 [==============================] - 0s 2ms/step - loss: 39.1668 - accuracy: 0.5444 - val_loss: 30.6952 - val_accuracy: 0.5333\n",
      "Epoch 87/100\n",
      "23/23 [==============================] - 0s 2ms/step - loss: 40.8315 - accuracy: 0.5458 - val_loss: 28.5667 - val_accuracy: 0.5333\n",
      "Epoch 88/100\n",
      "23/23 [==============================] - 0s 2ms/step - loss: 43.0346 - accuracy: 0.5375 - val_loss: 28.3979 - val_accuracy: 0.5167\n",
      "Epoch 89/100\n",
      "23/23 [==============================] - 0s 2ms/step - loss: 42.3226 - accuracy: 0.5250 - val_loss: 41.8802 - val_accuracy: 0.5278\n",
      "Epoch 90/100\n",
      "23/23 [==============================] - 0s 2ms/step - loss: 48.7309 - accuracy: 0.5597 - val_loss: 28.2148 - val_accuracy: 0.5333\n",
      "Epoch 91/100\n",
      "23/23 [==============================] - 0s 2ms/step - loss: 47.9661 - accuracy: 0.5403 - val_loss: 40.5075 - val_accuracy: 0.5611\n",
      "Epoch 92/100\n",
      "23/23 [==============================] - 0s 2ms/step - loss: 51.0272 - accuracy: 0.5181 - val_loss: 35.3684 - val_accuracy: 0.5389\n",
      "Epoch 93/100\n",
      "23/23 [==============================] - 0s 2ms/step - loss: 45.7749 - accuracy: 0.5597 - val_loss: 27.5770 - val_accuracy: 0.5333\n",
      "Epoch 94/100\n",
      "23/23 [==============================] - 0s 2ms/step - loss: 37.8624 - accuracy: 0.5736 - val_loss: 29.0376 - val_accuracy: 0.5444\n",
      "Epoch 95/100\n",
      "23/23 [==============================] - 0s 2ms/step - loss: 34.7134 - accuracy: 0.5667 - val_loss: 26.2598 - val_accuracy: 0.5500\n",
      "Epoch 96/100\n",
      "23/23 [==============================] - 0s 2ms/step - loss: 34.8932 - accuracy: 0.5569 - val_loss: 27.0604 - val_accuracy: 0.5444\n",
      "Epoch 97/100\n",
      "23/23 [==============================] - 0s 2ms/step - loss: 38.8651 - accuracy: 0.5569 - val_loss: 31.1028 - val_accuracy: 0.5778\n",
      "Epoch 98/100\n",
      "23/23 [==============================] - 0s 2ms/step - loss: 35.6750 - accuracy: 0.5639 - val_loss: 25.7537 - val_accuracy: 0.5611\n",
      "Epoch 99/100\n",
      "23/23 [==============================] - 0s 2ms/step - loss: 34.7446 - accuracy: 0.5597 - val_loss: 28.4464 - val_accuracy: 0.5611\n",
      "Epoch 100/100\n",
      "23/23 [==============================] - 0s 2ms/step - loss: 34.1059 - accuracy: 0.5806 - val_loss: 25.6927 - val_accuracy: 0.5444\n",
      "6/6 [==============================] - 0s 1ms/step\n"
     ]
    }
   ],
   "source": [
    "model_history=model.fit(x=X_train, y=y_train, epochs=100, batch_size=32,validation_data= (X_test,y_test))\n",
    "y_pred = model.predict(X_test)\n",
    "\n",
    "y_test_class = np.argmax(y_test,axis=1)\n",
    "y_pred_class = np.argmax(y_pred,axis=1)"
   ]
  },
  {
   "cell_type": "code",
   "execution_count": 17,
   "metadata": {},
   "outputs": [
    {
     "data": {
      "image/png": "[encoded data removed]",
      "text/plain": [
       "<Figure size 640x480 with 1 Axes>"
      ]
     },
     "metadata": {},
     "output_type": "display_data"
    }
   ],
   "source": [
    "import matplotlib.pyplot as plt\n",
    "import seaborn as sns\n",
    "\n",
    "loss =model_history.history['loss']\n",
    "val_loss =model_history.history['val_loss']\n",
    "epochs = range(1, len(loss) + 1)\n",
    "plt.plot(epochs, loss, 'y', label='Training loss')\n",
    "plt.plot(epochs, val_loss, 'r', label='Validation loss')\n",
    "plt.title('Training and validation loss')\n",
    "plt.xlabel('Epochs')\n",
    "plt.ylabel('Loss')\n",
    "plt.legend()\n",
    "plt.show()"
   ]
  },
  {
   "cell_type": "code",
   "execution_count": 18,
   "metadata": {},
   "outputs": [
    {
     "data": {
      "image/png": "[encoded data removed]",
      "text/plain": [
       "<Figure size 640x480 with 1 Axes>"
      ]
     },
     "metadata": {},
     "output_type": "display_data"
    }
   ],
   "source": [
    "acc =model_history.history['accuracy']\n",
    "val_acc =model_history.history['val_accuracy']\n",
    "plt.plot(epochs, acc, 'y', label='Training acc')\n",
    "plt.plot(epochs, val_acc, 'r', label='Validation acc')\n",
    "plt.title('Training and validation accuracy')\n",
    "plt.xlabel('Epochs')\n",
    "plt.ylabel('Accuracy')\n",
    "plt.legend()\n",
    "plt.show()"
   ]
  },
  {
   "cell_type": "code",
   "execution_count": 19,
   "metadata": {},
   "outputs": [
    {
     "name": "stdout",
     "output_type": "stream",
     "text": [
      "              precision    recall  f1-score   support\n",
      "\n",
      "           0       0.57      0.73      0.64        99\n",
      "           1       0.49      0.32      0.39        81\n",
      "\n",
      "    accuracy                           0.54       180\n",
      "   macro avg       0.53      0.52      0.51       180\n",
      "weighted avg       0.53      0.54      0.53       180\n",
      "\n",
      "[[72 27]\n",
      " [55 26]]\n"
     ]
    }
   ],
   "source": [
    "#Accuracy of the predicted values\n",
    "from sklearn.metrics import classification_report,confusion_matrix\n",
    "print(classification_report(y_test_class,y_pred_class))\n",
    "print(confusion_matrix(y_test_class,y_pred_class))"
   ]
  },
  {
   "cell_type": "code",
   "execution_count": null,
   "metadata": {},
   "outputs": [],
   "source": []
  }
 ],
 "metadata": {
  "kernelspec": {
   "display_name": "Python 3",
   "language": "python",
   "name": "python3"
  },
  "language_info": {
   "codemirror_mode": {
    "name": "ipython",
    "version": 3
   },
   "file_extension": ".py",
   "mimetype": "text/x-python",
   "name": "python",
   "nbconvert_exporter": "python",
   "pygments_lexer": "ipython3",
   "version": "3.10.7"
  },
  "orig_nbformat": 4
 },
 "nbformat": 4,
 "nbformat_minor": 2
}
