{
 "cells": [
  {
   "cell_type": "code",
   "execution_count": 1,
   "metadata": {},
   "outputs": [],
   "source": [
    "import pandas as pd\n",
    "import matplotlib.pyplot as plt\n",
    "import numpy as np\n",
    "import pandas as pd\n",
    "import seaborn as sns\n",
    "from sklearn.model_selection import train_test_split\n",
    "from sklearn import metrics\n",
    "import tensorflow as tf\n",
    "from tensorflow import keras\n",
    "import keras.utils\n",
    "from tensorflow.python.keras.utils import np_utils"
   ]
  },
  {
   "cell_type": "code",
   "execution_count": 2,
   "metadata": {},
   "outputs": [],
   "source": [
    "df = pd.read_csv(\"car.data\", header=None)\n",
    "\n",
    "df.columns = ['buying', 'maint', 'doors', 'persons', 'lug_boot', 'safety','label']\n"
   ]
  },
  {
   "cell_type": "code",
   "execution_count": 3,
   "metadata": {},
   "outputs": [
    {
     "name": "stdout",
     "output_type": "stream",
     "text": [
      "buying      0\n",
      "maint       0\n",
      "doors       0\n",
      "persons     0\n",
      "lug_boot    0\n",
      "safety      0\n",
      "label       0\n",
      "dtype: int64\n"
     ]
    }
   ],
   "source": [
    "# 결측치 확인\n",
    "missing_values = df.isna().sum()\n",
    "print (missing_values)\n",
    "# 결측치가 있는 행 제거\n",
    "df = df.dropna()"
   ]
  },
  {
   "cell_type": "code",
   "execution_count": 4,
   "metadata": {},
   "outputs": [
    {
     "data": {
      "text/html": [
       "<div>\n",
       "<style scoped>\n",
       "    .dataframe tbody tr th:only-of-type {\n",
       "        vertical-align: middle;\n",
       "    }\n",
       "\n",
       "    .dataframe tbody tr th {\n",
       "        vertical-align: top;\n",
       "    }\n",
       "\n",
       "    .dataframe thead th {\n",
       "        text-align: right;\n",
       "    }\n",
       "</style>\n",
       "<table border=\"1\" class=\"dataframe\">\n",
       "  <thead>\n",
       "    <tr style=\"text-align: right;\">\n",
       "      <th></th>\n",
       "      <th>buying</th>\n",
       "      <th>maint</th>\n",
       "      <th>doors</th>\n",
       "      <th>persons</th>\n",
       "      <th>lug_boot</th>\n",
       "      <th>safety</th>\n",
       "      <th>label</th>\n",
       "    </tr>\n",
       "  </thead>\n",
       "  <tbody>\n",
       "    <tr>\n",
       "      <th>0</th>\n",
       "      <td>vhigh</td>\n",
       "      <td>vhigh</td>\n",
       "      <td>2</td>\n",
       "      <td>2</td>\n",
       "      <td>small</td>\n",
       "      <td>low</td>\n",
       "      <td>unacc</td>\n",
       "    </tr>\n",
       "    <tr>\n",
       "      <th>1</th>\n",
       "      <td>vhigh</td>\n",
       "      <td>vhigh</td>\n",
       "      <td>2</td>\n",
       "      <td>2</td>\n",
       "      <td>small</td>\n",
       "      <td>med</td>\n",
       "      <td>unacc</td>\n",
       "    </tr>\n",
       "    <tr>\n",
       "      <th>2</th>\n",
       "      <td>vhigh</td>\n",
       "      <td>vhigh</td>\n",
       "      <td>2</td>\n",
       "      <td>2</td>\n",
       "      <td>small</td>\n",
       "      <td>high</td>\n",
       "      <td>unacc</td>\n",
       "    </tr>\n",
       "    <tr>\n",
       "      <th>3</th>\n",
       "      <td>vhigh</td>\n",
       "      <td>vhigh</td>\n",
       "      <td>2</td>\n",
       "      <td>2</td>\n",
       "      <td>med</td>\n",
       "      <td>low</td>\n",
       "      <td>unacc</td>\n",
       "    </tr>\n",
       "    <tr>\n",
       "      <th>4</th>\n",
       "      <td>vhigh</td>\n",
       "      <td>vhigh</td>\n",
       "      <td>2</td>\n",
       "      <td>2</td>\n",
       "      <td>med</td>\n",
       "      <td>med</td>\n",
       "      <td>unacc</td>\n",
       "    </tr>\n",
       "    <tr>\n",
       "      <th>...</th>\n",
       "      <td>...</td>\n",
       "      <td>...</td>\n",
       "      <td>...</td>\n",
       "      <td>...</td>\n",
       "      <td>...</td>\n",
       "      <td>...</td>\n",
       "      <td>...</td>\n",
       "    </tr>\n",
       "    <tr>\n",
       "      <th>1723</th>\n",
       "      <td>low</td>\n",
       "      <td>low</td>\n",
       "      <td>5more</td>\n",
       "      <td>more</td>\n",
       "      <td>med</td>\n",
       "      <td>med</td>\n",
       "      <td>good</td>\n",
       "    </tr>\n",
       "    <tr>\n",
       "      <th>1724</th>\n",
       "      <td>low</td>\n",
       "      <td>low</td>\n",
       "      <td>5more</td>\n",
       "      <td>more</td>\n",
       "      <td>med</td>\n",
       "      <td>high</td>\n",
       "      <td>vgood</td>\n",
       "    </tr>\n",
       "    <tr>\n",
       "      <th>1725</th>\n",
       "      <td>low</td>\n",
       "      <td>low</td>\n",
       "      <td>5more</td>\n",
       "      <td>more</td>\n",
       "      <td>big</td>\n",
       "      <td>low</td>\n",
       "      <td>unacc</td>\n",
       "    </tr>\n",
       "    <tr>\n",
       "      <th>1726</th>\n",
       "      <td>low</td>\n",
       "      <td>low</td>\n",
       "      <td>5more</td>\n",
       "      <td>more</td>\n",
       "      <td>big</td>\n",
       "      <td>med</td>\n",
       "      <td>good</td>\n",
       "    </tr>\n",
       "    <tr>\n",
       "      <th>1727</th>\n",
       "      <td>low</td>\n",
       "      <td>low</td>\n",
       "      <td>5more</td>\n",
       "      <td>more</td>\n",
       "      <td>big</td>\n",
       "      <td>high</td>\n",
       "      <td>vgood</td>\n",
       "    </tr>\n",
       "  </tbody>\n",
       "</table>\n",
       "<p>1728 rows × 7 columns</p>\n",
       "</div>"
      ],
      "text/plain": [
       "     buying  maint  doors persons lug_boot safety  label\n",
       "0     vhigh  vhigh      2       2    small    low  unacc\n",
       "1     vhigh  vhigh      2       2    small    med  unacc\n",
       "2     vhigh  vhigh      2       2    small   high  unacc\n",
       "3     vhigh  vhigh      2       2      med    low  unacc\n",
       "4     vhigh  vhigh      2       2      med    med  unacc\n",
       "...     ...    ...    ...     ...      ...    ...    ...\n",
       "1723    low    low  5more    more      med    med   good\n",
       "1724    low    low  5more    more      med   high  vgood\n",
       "1725    low    low  5more    more      big    low  unacc\n",
       "1726    low    low  5more    more      big    med   good\n",
       "1727    low    low  5more    more      big   high  vgood\n",
       "\n",
       "[1728 rows x 7 columns]"
      ]
     },
     "execution_count": 4,
     "metadata": {},
     "output_type": "execute_result"
    }
   ],
   "source": [
    "df"
   ]
  },
  {
   "cell_type": "code",
   "execution_count": 5,
   "metadata": {},
   "outputs": [
    {
     "name": "stdout",
     "output_type": "stream",
     "text": [
      "  buying  maint doors persons lug_boot safety\n",
      "0  vhigh  vhigh     2       2    small    low\n",
      "1  vhigh  vhigh     2       2    small    med\n",
      "2  vhigh  vhigh     2       2    small   high\n",
      "3  vhigh  vhigh     2       2      med    low\n",
      "4  vhigh  vhigh     2       2      med    med\n",
      "0    unacc\n",
      "1    unacc\n",
      "2    unacc\n",
      "3    unacc\n",
      "4    unacc\n",
      "Name: label, dtype: object\n"
     ]
    }
   ],
   "source": [
    "\n",
    "target = df['label']\n",
    "\n",
    "\n",
    "features = df.drop(columns=['label'])\n",
    "\n",
    "\n",
    "print(features.head())\n",
    "print(target.head())"
   ]
  },
  {
   "cell_type": "code",
   "execution_count": 6,
   "metadata": {},
   "outputs": [
    {
     "data": {
      "text/plain": [
       "0       unacc\n",
       "1       unacc\n",
       "2       unacc\n",
       "3       unacc\n",
       "4       unacc\n",
       "        ...  \n",
       "1723     good\n",
       "1724    vgood\n",
       "1725    unacc\n",
       "1726     good\n",
       "1727    vgood\n",
       "Name: label, Length: 1728, dtype: object"
      ]
     },
     "execution_count": 6,
     "metadata": {},
     "output_type": "execute_result"
    }
   ],
   "source": [
    "target"
   ]
  },
  {
   "cell_type": "code",
   "execution_count": 7,
   "metadata": {},
   "outputs": [],
   "source": [
    "one_hot_encoded = pd.get_dummies(target)"
   ]
  },
  {
   "cell_type": "code",
   "execution_count": 8,
   "metadata": {},
   "outputs": [
    {
     "data": {
      "text/plain": [
       "array([[False, False,  True, False],\n",
       "       [False, False,  True, False],\n",
       "       [False, False,  True, False],\n",
       "       ...,\n",
       "       [False, False,  True, False],\n",
       "       [False,  True, False, False],\n",
       "       [False, False, False,  True]])"
      ]
     },
     "execution_count": 8,
     "metadata": {},
     "output_type": "execute_result"
    }
   ],
   "source": [
    "one_hot_encoded.values"
   ]
  },
  {
   "cell_type": "code",
   "execution_count": 9,
   "metadata": {},
   "outputs": [],
   "source": [
    "from sklearn.preprocessing import LabelEncoder\n",
    "label_encoder = LabelEncoder()\n",
    "for i in features.columns:\n",
    "\n",
    "    features[i]=label_encoder.fit_transform(features[i])"
   ]
  },
  {
   "cell_type": "code",
   "execution_count": 10,
   "metadata": {},
   "outputs": [
    {
     "data": {
      "text/html": [
       "<div>\n",
       "<style scoped>\n",
       "    .dataframe tbody tr th:only-of-type {\n",
       "        vertical-align: middle;\n",
       "    }\n",
       "\n",
       "    .dataframe tbody tr th {\n",
       "        vertical-align: top;\n",
       "    }\n",
       "\n",
       "    .dataframe thead th {\n",
       "        text-align: right;\n",
       "    }\n",
       "</style>\n",
       "<table border=\"1\" class=\"dataframe\">\n",
       "  <thead>\n",
       "    <tr style=\"text-align: right;\">\n",
       "      <th></th>\n",
       "      <th>buying</th>\n",
       "      <th>maint</th>\n",
       "      <th>doors</th>\n",
       "      <th>persons</th>\n",
       "      <th>lug_boot</th>\n",
       "      <th>safety</th>\n",
       "    </tr>\n",
       "  </thead>\n",
       "  <tbody>\n",
       "    <tr>\n",
       "      <th>0</th>\n",
       "      <td>3</td>\n",
       "      <td>3</td>\n",
       "      <td>0</td>\n",
       "      <td>0</td>\n",
       "      <td>2</td>\n",
       "      <td>1</td>\n",
       "    </tr>\n",
       "    <tr>\n",
       "      <th>1</th>\n",
       "      <td>3</td>\n",
       "      <td>3</td>\n",
       "      <td>0</td>\n",
       "      <td>0</td>\n",
       "      <td>2</td>\n",
       "      <td>2</td>\n",
       "    </tr>\n",
       "    <tr>\n",
       "      <th>2</th>\n",
       "      <td>3</td>\n",
       "      <td>3</td>\n",
       "      <td>0</td>\n",
       "      <td>0</td>\n",
       "      <td>2</td>\n",
       "      <td>0</td>\n",
       "    </tr>\n",
       "    <tr>\n",
       "      <th>3</th>\n",
       "      <td>3</td>\n",
       "      <td>3</td>\n",
       "      <td>0</td>\n",
       "      <td>0</td>\n",
       "      <td>1</td>\n",
       "      <td>1</td>\n",
       "    </tr>\n",
       "    <tr>\n",
       "      <th>4</th>\n",
       "      <td>3</td>\n",
       "      <td>3</td>\n",
       "      <td>0</td>\n",
       "      <td>0</td>\n",
       "      <td>1</td>\n",
       "      <td>2</td>\n",
       "    </tr>\n",
       "    <tr>\n",
       "      <th>...</th>\n",
       "      <td>...</td>\n",
       "      <td>...</td>\n",
       "      <td>...</td>\n",
       "      <td>...</td>\n",
       "      <td>...</td>\n",
       "      <td>...</td>\n",
       "    </tr>\n",
       "    <tr>\n",
       "      <th>1723</th>\n",
       "      <td>1</td>\n",
       "      <td>1</td>\n",
       "      <td>3</td>\n",
       "      <td>2</td>\n",
       "      <td>1</td>\n",
       "      <td>2</td>\n",
       "    </tr>\n",
       "    <tr>\n",
       "      <th>1724</th>\n",
       "      <td>1</td>\n",
       "      <td>1</td>\n",
       "      <td>3</td>\n",
       "      <td>2</td>\n",
       "      <td>1</td>\n",
       "      <td>0</td>\n",
       "    </tr>\n",
       "    <tr>\n",
       "      <th>1725</th>\n",
       "      <td>1</td>\n",
       "      <td>1</td>\n",
       "      <td>3</td>\n",
       "      <td>2</td>\n",
       "      <td>0</td>\n",
       "      <td>1</td>\n",
       "    </tr>\n",
       "    <tr>\n",
       "      <th>1726</th>\n",
       "      <td>1</td>\n",
       "      <td>1</td>\n",
       "      <td>3</td>\n",
       "      <td>2</td>\n",
       "      <td>0</td>\n",
       "      <td>2</td>\n",
       "    </tr>\n",
       "    <tr>\n",
       "      <th>1727</th>\n",
       "      <td>1</td>\n",
       "      <td>1</td>\n",
       "      <td>3</td>\n",
       "      <td>2</td>\n",
       "      <td>0</td>\n",
       "      <td>0</td>\n",
       "    </tr>\n",
       "  </tbody>\n",
       "</table>\n",
       "<p>1728 rows × 6 columns</p>\n",
       "</div>"
      ],
      "text/plain": [
       "      buying  maint  doors  persons  lug_boot  safety\n",
       "0          3      3      0        0         2       1\n",
       "1          3      3      0        0         2       2\n",
       "2          3      3      0        0         2       0\n",
       "3          3      3      0        0         1       1\n",
       "4          3      3      0        0         1       2\n",
       "...      ...    ...    ...      ...       ...     ...\n",
       "1723       1      1      3        2         1       2\n",
       "1724       1      1      3        2         1       0\n",
       "1725       1      1      3        2         0       1\n",
       "1726       1      1      3        2         0       2\n",
       "1727       1      1      3        2         0       0\n",
       "\n",
       "[1728 rows x 6 columns]"
      ]
     },
     "execution_count": 10,
     "metadata": {},
     "output_type": "execute_result"
    }
   ],
   "source": [
    "features\n"
   ]
  },
  {
   "cell_type": "code",
   "execution_count": 11,
   "metadata": {},
   "outputs": [],
   "source": [
    "x = features.values\n",
    "y = one_hot_encoded.values"
   ]
  },
  {
   "cell_type": "code",
   "execution_count": 12,
   "metadata": {},
   "outputs": [
    {
     "data": {
      "text/plain": [
       "(1728, 6)"
      ]
     },
     "execution_count": 12,
     "metadata": {},
     "output_type": "execute_result"
    }
   ],
   "source": [
    "x.shape"
   ]
  },
  {
   "cell_type": "code",
   "execution_count": 13,
   "metadata": {},
   "outputs": [
    {
     "data": {
      "text/plain": [
       "(1728, 4)"
      ]
     },
     "execution_count": 13,
     "metadata": {},
     "output_type": "execute_result"
    }
   ],
   "source": [
    "y.shape"
   ]
  },
  {
   "cell_type": "code",
   "execution_count": 14,
   "metadata": {},
   "outputs": [],
   "source": [
    "X_train,X_test,y_train,y_test=train_test_split(x,y,test_size=0.2,random_state=423)"
   ]
  },
  {
   "cell_type": "code",
   "execution_count": 15,
   "metadata": {},
   "outputs": [
    {
     "name": "stderr",
     "output_type": "stream",
     "text": [
      "WARNING:absl:`lr` is deprecated in Keras optimizer, please use `learning_rate` or use the legacy optimizer, e.g.,tf.keras.optimizers.legacy.Adam.\n"
     ]
    },
    {
     "name": "stdout",
     "output_type": "stream",
     "text": [
      "Model: \"sequential\"\n",
      "_________________________________________________________________\n",
      " Layer (type)                Output Shape              Param #   \n",
      "=================================================================\n",
      " dense (Dense)               (None, 6)                 42        \n",
      "                                                                 \n",
      " dense_1 (Dense)             (None, 6)                 42        \n",
      "                                                                 \n",
      " dense_2 (Dense)             (None, 6)                 42        \n",
      "                                                                 \n",
      " dense_3 (Dense)             (None, 4)                 28        \n",
      "                                                                 \n",
      "=================================================================\n",
      "Total params: 154 (616.00 Byte)\n",
      "Trainable params: 154 (616.00 Byte)\n",
      "Non-trainable params: 0 (0.00 Byte)\n",
      "_________________________________________________________________\n"
     ]
    }
   ],
   "source": [
    "from keras.models import Sequential\n",
    "from keras.layers import Dense\n",
    "from keras.optimizers import Adam\n",
    "\n",
    "model = Sequential()\n",
    "\n",
    "model.add(Dense(6, input_shape=(6,), activation='relu'))\n",
    "model.add(Dense(6, activation='relu'))\n",
    "model.add(Dense(6, activation='relu'))\n",
    "model.add(Dense(4, activation='softmax'))\n",
    "\n",
    "model.compile(optimizer=Adam(lr=0.02), loss='categorical_crossentropy', metrics=['accuracy'])\n",
    "\n",
    "model.summary()\n"
   ]
  },
  {
   "cell_type": "code",
   "execution_count": 16,
   "metadata": {},
   "outputs": [
    {
     "name": "stdout",
     "output_type": "stream",
     "text": [
      "Epoch 1/100\n",
      "44/44 [==============================] - 1s 5ms/step - loss: 1.3246 - accuracy: 0.3922 - val_loss: 1.2269 - val_accuracy: 0.6936\n",
      "Epoch 2/100\n",
      "44/44 [==============================] - 0s 2ms/step - loss: 1.1630 - accuracy: 0.6889 - val_loss: 1.0454 - val_accuracy: 0.7254\n",
      "Epoch 3/100\n",
      "44/44 [==============================] - 0s 2ms/step - loss: 0.9958 - accuracy: 0.6939 - val_loss: 0.8721 - val_accuracy: 0.7254\n",
      "Epoch 4/100\n",
      "44/44 [==============================] - 0s 1ms/step - loss: 0.8783 - accuracy: 0.6939 - val_loss: 0.7867 - val_accuracy: 0.7254\n",
      "Epoch 5/100\n",
      "44/44 [==============================] - 0s 1ms/step - loss: 0.8203 - accuracy: 0.6939 - val_loss: 0.7481 - val_accuracy: 0.7254\n",
      "Epoch 6/100\n",
      "44/44 [==============================] - 0s 1ms/step - loss: 0.7883 - accuracy: 0.6939 - val_loss: 0.7273 - val_accuracy: 0.7254\n",
      "Epoch 7/100\n",
      "44/44 [==============================] - 0s 2ms/step - loss: 0.7627 - accuracy: 0.6939 - val_loss: 0.7098 - val_accuracy: 0.7254\n",
      "Epoch 8/100\n",
      "44/44 [==============================] - 0s 1ms/step - loss: 0.7431 - accuracy: 0.6939 - val_loss: 0.6945 - val_accuracy: 0.7254\n",
      "Epoch 9/100\n",
      "44/44 [==============================] - 0s 2ms/step - loss: 0.7285 - accuracy: 0.6939 - val_loss: 0.6837 - val_accuracy: 0.7254\n",
      "Epoch 10/100\n",
      "44/44 [==============================] - 0s 1ms/step - loss: 0.7113 - accuracy: 0.6939 - val_loss: 0.6617 - val_accuracy: 0.7254\n",
      "Epoch 11/100\n",
      "44/44 [==============================] - 0s 1ms/step - loss: 0.6960 - accuracy: 0.6939 - val_loss: 0.6490 - val_accuracy: 0.7254\n",
      "Epoch 12/100\n",
      "44/44 [==============================] - 0s 2ms/step - loss: 0.6839 - accuracy: 0.6939 - val_loss: 0.6391 - val_accuracy: 0.7254\n",
      "Epoch 13/100\n",
      "44/44 [==============================] - 0s 1ms/step - loss: 0.6750 - accuracy: 0.6939 - val_loss: 0.6294 - val_accuracy: 0.7254\n",
      "Epoch 14/100\n",
      "44/44 [==============================] - 0s 1ms/step - loss: 0.6663 - accuracy: 0.6939 - val_loss: 0.6218 - val_accuracy: 0.7457\n",
      "Epoch 15/100\n",
      "44/44 [==============================] - 0s 1ms/step - loss: 0.6584 - accuracy: 0.7330 - val_loss: 0.6137 - val_accuracy: 0.7543\n",
      "Epoch 16/100\n",
      "44/44 [==============================] - 0s 2ms/step - loss: 0.6510 - accuracy: 0.7366 - val_loss: 0.6083 - val_accuracy: 0.7543\n",
      "Epoch 17/100\n",
      "44/44 [==============================] - 0s 2ms/step - loss: 0.6437 - accuracy: 0.7388 - val_loss: 0.6011 - val_accuracy: 0.7659\n",
      "Epoch 18/100\n",
      "44/44 [==============================] - 0s 1ms/step - loss: 0.6366 - accuracy: 0.7438 - val_loss: 0.5940 - val_accuracy: 0.7659\n",
      "Epoch 19/100\n",
      "44/44 [==============================] - 0s 1ms/step - loss: 0.6304 - accuracy: 0.7460 - val_loss: 0.5892 - val_accuracy: 0.7717\n",
      "Epoch 20/100\n",
      "44/44 [==============================] - 0s 2ms/step - loss: 0.6241 - accuracy: 0.7489 - val_loss: 0.5836 - val_accuracy: 0.7688\n",
      "Epoch 21/100\n",
      "44/44 [==============================] - 0s 1ms/step - loss: 0.6181 - accuracy: 0.7504 - val_loss: 0.5783 - val_accuracy: 0.7717\n",
      "Epoch 22/100\n",
      "44/44 [==============================] - 0s 2ms/step - loss: 0.6127 - accuracy: 0.7504 - val_loss: 0.5754 - val_accuracy: 0.7803\n",
      "Epoch 23/100\n",
      "44/44 [==============================] - 0s 2ms/step - loss: 0.6076 - accuracy: 0.7525 - val_loss: 0.5707 - val_accuracy: 0.7746\n",
      "Epoch 24/100\n",
      "44/44 [==============================] - 0s 2ms/step - loss: 0.6022 - accuracy: 0.7569 - val_loss: 0.5662 - val_accuracy: 0.7746\n",
      "Epoch 25/100\n",
      "44/44 [==============================] - 0s 2ms/step - loss: 0.5972 - accuracy: 0.7554 - val_loss: 0.5613 - val_accuracy: 0.7746\n",
      "Epoch 26/100\n",
      "44/44 [==============================] - 0s 1ms/step - loss: 0.5939 - accuracy: 0.7569 - val_loss: 0.5595 - val_accuracy: 0.7832\n",
      "Epoch 27/100\n",
      "44/44 [==============================] - 0s 2ms/step - loss: 0.5896 - accuracy: 0.7576 - val_loss: 0.5549 - val_accuracy: 0.7948\n",
      "Epoch 28/100\n",
      "44/44 [==============================] - 0s 1ms/step - loss: 0.5857 - accuracy: 0.7605 - val_loss: 0.5494 - val_accuracy: 0.7775\n",
      "Epoch 29/100\n",
      "44/44 [==============================] - 0s 1ms/step - loss: 0.5813 - accuracy: 0.7583 - val_loss: 0.5476 - val_accuracy: 0.7861\n",
      "Epoch 30/100\n",
      "44/44 [==============================] - 0s 1ms/step - loss: 0.5773 - accuracy: 0.7598 - val_loss: 0.5437 - val_accuracy: 0.7803\n",
      "Epoch 31/100\n",
      "44/44 [==============================] - 0s 1ms/step - loss: 0.5739 - accuracy: 0.7612 - val_loss: 0.5416 - val_accuracy: 0.7948\n",
      "Epoch 32/100\n",
      "44/44 [==============================] - 0s 1ms/step - loss: 0.5708 - accuracy: 0.7627 - val_loss: 0.5405 - val_accuracy: 0.7832\n",
      "Epoch 33/100\n",
      "44/44 [==============================] - 0s 1ms/step - loss: 0.5684 - accuracy: 0.7619 - val_loss: 0.5335 - val_accuracy: 0.7948\n",
      "Epoch 34/100\n",
      "44/44 [==============================] - 0s 1ms/step - loss: 0.5645 - accuracy: 0.7619 - val_loss: 0.5313 - val_accuracy: 0.7919\n",
      "Epoch 35/100\n",
      "44/44 [==============================] - 0s 1ms/step - loss: 0.5620 - accuracy: 0.7634 - val_loss: 0.5258 - val_accuracy: 0.8035\n",
      "Epoch 36/100\n",
      "44/44 [==============================] - 0s 2ms/step - loss: 0.5585 - accuracy: 0.7648 - val_loss: 0.5266 - val_accuracy: 0.7919\n",
      "Epoch 37/100\n",
      "44/44 [==============================] - 0s 2ms/step - loss: 0.5557 - accuracy: 0.7648 - val_loss: 0.5214 - val_accuracy: 0.8035\n",
      "Epoch 38/100\n",
      "44/44 [==============================] - 0s 2ms/step - loss: 0.5521 - accuracy: 0.7677 - val_loss: 0.5186 - val_accuracy: 0.8035\n",
      "Epoch 39/100\n",
      "44/44 [==============================] - 0s 1ms/step - loss: 0.5487 - accuracy: 0.7670 - val_loss: 0.5160 - val_accuracy: 0.8035\n",
      "Epoch 40/100\n",
      "44/44 [==============================] - 0s 2ms/step - loss: 0.5454 - accuracy: 0.7699 - val_loss: 0.5132 - val_accuracy: 0.8006\n",
      "Epoch 41/100\n",
      "44/44 [==============================] - 0s 1ms/step - loss: 0.5417 - accuracy: 0.7670 - val_loss: 0.5117 - val_accuracy: 0.7919\n",
      "Epoch 42/100\n",
      "44/44 [==============================] - 0s 1ms/step - loss: 0.5387 - accuracy: 0.7692 - val_loss: 0.5055 - val_accuracy: 0.8035\n",
      "Epoch 43/100\n",
      "44/44 [==============================] - 0s 1ms/step - loss: 0.5364 - accuracy: 0.7692 - val_loss: 0.5038 - val_accuracy: 0.8035\n",
      "Epoch 44/100\n",
      "44/44 [==============================] - 0s 1ms/step - loss: 0.5320 - accuracy: 0.7677 - val_loss: 0.5030 - val_accuracy: 0.7948\n",
      "Epoch 45/100\n",
      "44/44 [==============================] - 0s 1ms/step - loss: 0.5298 - accuracy: 0.7685 - val_loss: 0.5009 - val_accuracy: 0.7977\n",
      "Epoch 46/100\n",
      "44/44 [==============================] - 0s 2ms/step - loss: 0.5254 - accuracy: 0.7648 - val_loss: 0.4978 - val_accuracy: 0.7977\n",
      "Epoch 47/100\n",
      "44/44 [==============================] - 0s 1ms/step - loss: 0.5231 - accuracy: 0.7685 - val_loss: 0.4960 - val_accuracy: 0.7948\n",
      "Epoch 48/100\n",
      "44/44 [==============================] - 0s 1ms/step - loss: 0.5208 - accuracy: 0.7706 - val_loss: 0.4905 - val_accuracy: 0.8006\n",
      "Epoch 49/100\n",
      "44/44 [==============================] - 0s 2ms/step - loss: 0.5167 - accuracy: 0.7692 - val_loss: 0.4886 - val_accuracy: 0.8006\n",
      "Epoch 50/100\n",
      "44/44 [==============================] - 0s 1ms/step - loss: 0.5120 - accuracy: 0.7721 - val_loss: 0.4851 - val_accuracy: 0.8035\n",
      "Epoch 51/100\n",
      "44/44 [==============================] - 0s 1ms/step - loss: 0.5096 - accuracy: 0.7713 - val_loss: 0.4827 - val_accuracy: 0.8006\n",
      "Epoch 52/100\n",
      "44/44 [==============================] - 0s 2ms/step - loss: 0.5062 - accuracy: 0.7713 - val_loss: 0.4804 - val_accuracy: 0.8035\n",
      "Epoch 53/100\n",
      "44/44 [==============================] - 0s 2ms/step - loss: 0.5032 - accuracy: 0.7728 - val_loss: 0.4793 - val_accuracy: 0.8006\n",
      "Epoch 54/100\n",
      "44/44 [==============================] - 0s 1ms/step - loss: 0.5011 - accuracy: 0.7757 - val_loss: 0.4769 - val_accuracy: 0.8035\n",
      "Epoch 55/100\n",
      "44/44 [==============================] - 0s 2ms/step - loss: 0.4978 - accuracy: 0.7735 - val_loss: 0.4699 - val_accuracy: 0.8064\n",
      "Epoch 56/100\n",
      "44/44 [==============================] - 0s 1ms/step - loss: 0.4943 - accuracy: 0.7757 - val_loss: 0.4704 - val_accuracy: 0.8006\n",
      "Epoch 57/100\n",
      "44/44 [==============================] - 0s 1ms/step - loss: 0.4934 - accuracy: 0.7757 - val_loss: 0.4672 - val_accuracy: 0.8006\n",
      "Epoch 58/100\n",
      "44/44 [==============================] - 0s 2ms/step - loss: 0.4895 - accuracy: 0.7750 - val_loss: 0.4634 - val_accuracy: 0.8064\n",
      "Epoch 59/100\n",
      "44/44 [==============================] - 0s 1ms/step - loss: 0.4866 - accuracy: 0.7779 - val_loss: 0.4605 - val_accuracy: 0.8410\n",
      "Epoch 60/100\n",
      "44/44 [==============================] - 0s 1ms/step - loss: 0.4839 - accuracy: 0.7822 - val_loss: 0.4580 - val_accuracy: 0.8410\n",
      "Epoch 61/100\n",
      "44/44 [==============================] - 0s 1ms/step - loss: 0.4806 - accuracy: 0.7865 - val_loss: 0.4559 - val_accuracy: 0.8324\n",
      "Epoch 62/100\n",
      "44/44 [==============================] - 0s 2ms/step - loss: 0.4783 - accuracy: 0.7902 - val_loss: 0.4532 - val_accuracy: 0.8382\n",
      "Epoch 63/100\n",
      "44/44 [==============================] - 0s 1ms/step - loss: 0.4766 - accuracy: 0.7902 - val_loss: 0.4495 - val_accuracy: 0.8468\n",
      "Epoch 64/100\n",
      "44/44 [==============================] - 0s 1ms/step - loss: 0.4741 - accuracy: 0.7880 - val_loss: 0.4484 - val_accuracy: 0.8353\n",
      "Epoch 65/100\n",
      "44/44 [==============================] - 0s 1ms/step - loss: 0.4712 - accuracy: 0.7909 - val_loss: 0.4442 - val_accuracy: 0.8382\n",
      "Epoch 66/100\n",
      "44/44 [==============================] - 0s 1ms/step - loss: 0.4692 - accuracy: 0.7916 - val_loss: 0.4419 - val_accuracy: 0.8382\n",
      "Epoch 67/100\n",
      "44/44 [==============================] - 0s 1ms/step - loss: 0.4672 - accuracy: 0.7945 - val_loss: 0.4416 - val_accuracy: 0.8353\n",
      "Epoch 68/100\n",
      "44/44 [==============================] - 0s 2ms/step - loss: 0.4645 - accuracy: 0.7923 - val_loss: 0.4387 - val_accuracy: 0.8353\n",
      "Epoch 69/100\n",
      "44/44 [==============================] - 0s 1ms/step - loss: 0.4617 - accuracy: 0.7952 - val_loss: 0.4353 - val_accuracy: 0.8382\n",
      "Epoch 70/100\n",
      "44/44 [==============================] - 0s 1ms/step - loss: 0.4588 - accuracy: 0.7967 - val_loss: 0.4343 - val_accuracy: 0.8353\n",
      "Epoch 71/100\n",
      "44/44 [==============================] - 0s 1ms/step - loss: 0.4573 - accuracy: 0.7959 - val_loss: 0.4310 - val_accuracy: 0.8410\n",
      "Epoch 72/100\n",
      "44/44 [==============================] - 0s 2ms/step - loss: 0.4548 - accuracy: 0.7981 - val_loss: 0.4263 - val_accuracy: 0.8410\n",
      "Epoch 73/100\n",
      "44/44 [==============================] - 0s 1ms/step - loss: 0.4516 - accuracy: 0.8010 - val_loss: 0.4264 - val_accuracy: 0.8410\n",
      "Epoch 74/100\n",
      "44/44 [==============================] - 0s 1ms/step - loss: 0.4497 - accuracy: 0.7945 - val_loss: 0.4204 - val_accuracy: 0.8353\n",
      "Epoch 75/100\n",
      "44/44 [==============================] - 0s 1ms/step - loss: 0.4470 - accuracy: 0.7988 - val_loss: 0.4150 - val_accuracy: 0.8439\n",
      "Epoch 76/100\n",
      "44/44 [==============================] - 0s 1ms/step - loss: 0.4435 - accuracy: 0.8046 - val_loss: 0.4129 - val_accuracy: 0.8439\n",
      "Epoch 77/100\n",
      "44/44 [==============================] - 0s 1ms/step - loss: 0.4402 - accuracy: 0.8068 - val_loss: 0.4087 - val_accuracy: 0.8468\n",
      "Epoch 78/100\n",
      "44/44 [==============================] - 0s 1ms/step - loss: 0.4380 - accuracy: 0.8075 - val_loss: 0.4070 - val_accuracy: 0.8439\n",
      "Epoch 79/100\n",
      "44/44 [==============================] - 0s 2ms/step - loss: 0.4333 - accuracy: 0.8039 - val_loss: 0.4031 - val_accuracy: 0.8468\n",
      "Epoch 80/100\n",
      "44/44 [==============================] - 0s 1ms/step - loss: 0.4311 - accuracy: 0.8119 - val_loss: 0.4030 - val_accuracy: 0.8468\n",
      "Epoch 81/100\n",
      "44/44 [==============================] - 0s 1ms/step - loss: 0.4277 - accuracy: 0.8133 - val_loss: 0.3989 - val_accuracy: 0.8497\n",
      "Epoch 82/100\n",
      "44/44 [==============================] - 0s 1ms/step - loss: 0.4238 - accuracy: 0.8155 - val_loss: 0.3910 - val_accuracy: 0.8439\n",
      "Epoch 83/100\n",
      "44/44 [==============================] - 0s 1ms/step - loss: 0.4197 - accuracy: 0.8068 - val_loss: 0.3922 - val_accuracy: 0.8468\n",
      "Epoch 84/100\n",
      "44/44 [==============================] - 0s 1ms/step - loss: 0.4163 - accuracy: 0.8061 - val_loss: 0.3852 - val_accuracy: 0.8526\n",
      "Epoch 85/100\n",
      "44/44 [==============================] - 0s 1ms/step - loss: 0.4128 - accuracy: 0.8111 - val_loss: 0.3816 - val_accuracy: 0.8526\n",
      "Epoch 86/100\n",
      "44/44 [==============================] - 0s 2ms/step - loss: 0.4086 - accuracy: 0.8126 - val_loss: 0.3750 - val_accuracy: 0.8497\n",
      "Epoch 87/100\n",
      "44/44 [==============================] - 0s 1ms/step - loss: 0.4055 - accuracy: 0.8126 - val_loss: 0.3717 - val_accuracy: 0.8555\n",
      "Epoch 88/100\n",
      "44/44 [==============================] - 0s 1ms/step - loss: 0.4003 - accuracy: 0.8119 - val_loss: 0.3685 - val_accuracy: 0.8613\n",
      "Epoch 89/100\n",
      "44/44 [==============================] - 0s 1ms/step - loss: 0.3958 - accuracy: 0.8104 - val_loss: 0.3672 - val_accuracy: 0.8584\n",
      "Epoch 90/100\n",
      "44/44 [==============================] - 0s 1ms/step - loss: 0.3923 - accuracy: 0.8148 - val_loss: 0.3674 - val_accuracy: 0.8555\n",
      "Epoch 91/100\n",
      "44/44 [==============================] - 0s 1ms/step - loss: 0.3888 - accuracy: 0.8191 - val_loss: 0.3650 - val_accuracy: 0.8613\n",
      "Epoch 92/100\n",
      "44/44 [==============================] - 0s 2ms/step - loss: 0.3872 - accuracy: 0.8191 - val_loss: 0.3597 - val_accuracy: 0.8526\n",
      "Epoch 93/100\n",
      "44/44 [==============================] - 0s 1ms/step - loss: 0.3821 - accuracy: 0.8169 - val_loss: 0.3554 - val_accuracy: 0.8526\n",
      "Epoch 94/100\n",
      "44/44 [==============================] - 0s 1ms/step - loss: 0.3795 - accuracy: 0.8184 - val_loss: 0.3539 - val_accuracy: 0.8468\n",
      "Epoch 95/100\n",
      "44/44 [==============================] - 0s 2ms/step - loss: 0.3775 - accuracy: 0.8242 - val_loss: 0.3517 - val_accuracy: 0.8526\n",
      "Epoch 96/100\n",
      "44/44 [==============================] - 0s 2ms/step - loss: 0.3736 - accuracy: 0.8220 - val_loss: 0.3564 - val_accuracy: 0.8584\n",
      "Epoch 97/100\n",
      "44/44 [==============================] - 0s 1ms/step - loss: 0.3708 - accuracy: 0.8220 - val_loss: 0.3533 - val_accuracy: 0.8382\n",
      "Epoch 98/100\n",
      "44/44 [==============================] - 0s 2ms/step - loss: 0.3683 - accuracy: 0.8263 - val_loss: 0.3522 - val_accuracy: 0.8410\n",
      "Epoch 99/100\n",
      "44/44 [==============================] - 0s 2ms/step - loss: 0.3663 - accuracy: 0.8234 - val_loss: 0.3478 - val_accuracy: 0.8439\n",
      "Epoch 100/100\n",
      "44/44 [==============================] - 0s 1ms/step - loss: 0.3634 - accuracy: 0.8256 - val_loss: 0.3485 - val_accuracy: 0.8410\n",
      "11/11 [==============================] - 0s 0s/step\n"
     ]
    }
   ],
   "source": [
    "model_history=model.fit(x=X_train, y=y_train, epochs=100, batch_size=32,validation_data= (X_test,y_test))\n",
    "y_pred = model.predict(X_test)\n",
    "\n",
    "y_test_class = np.argmax(y_test,axis=1)\n",
    "y_pred_class = np.argmax(y_pred,axis=1)"
   ]
  },
  {
   "cell_type": "code",
   "execution_count": 17,
   "metadata": {},
   "outputs": [
    {
     "data": {
      "image/png": "[encoded data removed]",
      "text/plain": [
       "<Figure size 640x480 with 1 Axes>"
      ]
     },
     "metadata": {},
     "output_type": "display_data"
    }
   ],
   "source": [
    "import matplotlib.pyplot as plt\n",
    "import seaborn as sns\n",
    "\n",
    "loss =model_history.history['loss']\n",
    "val_loss =model_history.history['val_loss']\n",
    "epochs = range(1, len(loss) + 1)\n",
    "plt.plot(epochs, loss, 'y', label='Training loss')\n",
    "plt.plot(epochs, val_loss, 'r', label='Validation loss')\n",
    "plt.title('Training and validation loss')\n",
    "plt.xlabel('Epochs')\n",
    "plt.ylabel('Loss')\n",
    "plt.legend()\n",
    "plt.show()"
   ]
  },
  {
   "cell_type": "code",
   "execution_count": 18,
   "metadata": {},
   "outputs": [
    {
     "data": {
      "image/png": "[encoded data removed]",
      "text/plain": [
       "<Figure size 640x480 with 1 Axes>"
      ]
     },
     "metadata": {},
     "output_type": "display_data"
    }
   ],
   "source": [
    "acc =model_history.history['accuracy']\n",
    "val_acc =model_history.history['val_accuracy']\n",
    "plt.plot(epochs, acc, 'y', label='Training acc')\n",
    "plt.plot(epochs, val_acc, 'r', label='Validation acc')\n",
    "plt.title('Training and validation accuracy')\n",
    "plt.xlabel('Epochs')\n",
    "plt.ylabel('Accuracy')\n",
    "plt.legend()\n",
    "plt.show()"
   ]
  },
  {
   "cell_type": "code",
   "execution_count": 19,
   "metadata": {},
   "outputs": [
    {
     "name": "stdout",
     "output_type": "stream",
     "text": [
      "              precision    recall  f1-score   support\n",
      "\n",
      "           0       0.59      0.73      0.65        71\n",
      "           1       0.00      0.00      0.00        15\n",
      "           2       0.95      0.94      0.95       251\n",
      "           3       0.25      0.22      0.24         9\n",
      "\n",
      "    accuracy                           0.84       346\n",
      "   macro avg       0.45      0.47      0.46       346\n",
      "weighted avg       0.82      0.84      0.83       346\n",
      "\n",
      "[[ 52   0  13   6]\n",
      " [ 15   0   0   0]\n",
      " [ 14   0 237   0]\n",
      " [  7   0   0   2]]\n"
     ]
    },
    {
     "name": "stderr",
     "output_type": "stream",
     "text": [
      "c:\\Users\\user\\AppData\\Local\\Programs\\Python\\Python310\\lib\\site-packages\\sklearn\\metrics\\_classification.py:1469: UndefinedMetricWarning: Precision and F-score are ill-defined and being set to 0.0 in labels with no predicted samples. Use `zero_division` parameter to control this behavior.\n",
      "  _warn_prf(average, modifier, msg_start, len(result))\n",
      "c:\\Users\\user\\AppData\\Local\\Programs\\Python\\Python310\\lib\\site-packages\\sklearn\\metrics\\_classification.py:1469: UndefinedMetricWarning: Precision and F-score are ill-defined and being set to 0.0 in labels with no predicted samples. Use `zero_division` parameter to control this behavior.\n",
      "  _warn_prf(average, modifier, msg_start, len(result))\n",
      "c:\\Users\\user\\AppData\\Local\\Programs\\Python\\Python310\\lib\\site-packages\\sklearn\\metrics\\_classification.py:1469: UndefinedMetricWarning: Precision and F-score are ill-defined and being set to 0.0 in labels with no predicted samples. Use `zero_division` parameter to control this behavior.\n",
      "  _warn_prf(average, modifier, msg_start, len(result))\n"
     ]
    }
   ],
   "source": [
    "#Accuracy of the predicted values\n",
    "from sklearn.metrics import classification_report,confusion_matrix\n",
    "print(classification_report(y_test_class,y_pred_class))\n",
    "print(confusion_matrix(y_test_class,y_pred_class))"
   ]
  },
  {
   "cell_type": "code",
   "execution_count": 21,
   "metadata": {},
   "outputs": [
    {
     "name": "stdout",
     "output_type": "stream",
     "text": [
      "0.8410404624277457\n"
     ]
    }
   ],
   "source": [
    "from sklearn.metrics import f1_score\n",
    "print(f1_score(y_test_class,y_pred_class, average='micro'))"
   ]
  }
 ],
 "metadata": {
  "kernelspec": {
   "display_name": "Python 3",
   "language": "python",
   "name": "python3"
  },
  "language_info": {
   "codemirror_mode": {
    "name": "ipython",
    "version": 3
   },
   "file_extension": ".py",
   "mimetype": "text/x-python",
   "name": "python",
   "nbconvert_exporter": "python",
   "pygments_lexer": "ipython3",
   "version": "3.10.7"
  },
  "orig_nbformat": 4
 },
 "nbformat": 4,
 "nbformat_minor": 2
}
