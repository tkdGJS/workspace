{
 "cells": [
  {
   "cell_type": "code",
   "execution_count": 1,
   "metadata": {},
   "outputs": [],
   "source": [
    "import numpy as np\n",
    "import pandas as pd\n",
    "\n",
    "from sklearn.svm import SVC, SVR\n",
    "from sklearn.preprocessing import MinMaxScaler, minmax_scale\n",
    "from sklearn.ensemble import RandomForestClassifier, RandomForestRegressor\n",
    "from sklearn.linear_model import LogisticRegression\n",
    "from sklearn.multioutput import MultiOutputClassifier, MultiOutputRegressor\n",
    "from sklearn.datasets import make_multilabel_classification\n",
    "from sklearn.model_selection import GridSearchCV, LeaveOneOut,KFold, train_test_split\n",
    "from sklearn.metrics import confusion_matrix, accuracy_score, roc_curve, auc\n",
    "\n",
    "from sklearn.metrics import mean_absolute_error\n",
    "from sklearn.metrics import r2_score\n",
    "from sklearn.metrics import mean_squared_error\n",
    "import math\n",
    "import scipy.stats as stats\n",
    "import pickle\n",
    "import warnings\n",
    "warnings.filterwarnings(action='ignore')\n",
    "\n",
    "from matplotlib import pyplot as plt\n",
    "from sklearn.model_selection import train_test_split\n",
    "from sklearn.model_selection import GridSearchCV\n",
    "from sklearn.ensemble import RandomForestClassifier\n",
    "from sklearn.metrics import roc_auc_score,confusion_matrix,accuracy_score\n",
    "from sklearn.metrics import precision_recall_fscore_support,roc_curve,auc\n",
    "from sklearn.model_selection import StratifiedKFold\n",
    "from sklearn.model_selection import KFold\n",
    "from sklearn.preprocessing import MinMaxScaler\n",
    "\n",
    "from sklearn.feature_selection import SelectKBest, f_classif\n",
    "from sklearn.pipeline import Pipeline, make_pipeline\n",
    "from sklearn.linear_model import LogisticRegression\n",
    "from sklearn.svm import SVC\n",
    "from sklearn.tree import DecisionTreeClassifier\n",
    "import matplotlib.pyplot as plt\n",
    "#from eli5.sklearn import PermutationImportance\n",
    "#from imblearn.combine import SMOTETomek\n",
    "from sklearn.impute import SimpleImputer\n",
    "import sklearn.svm as svm\n",
    "import sklearn.metrics as mt\n",
    "from sklearn.model_selection import cross_val_score, cross_validate, cross_val_predict\n",
    "from sklearn.linear_model import Lasso\n",
    "from sklearn.model_selection import train_test_split\n",
    "from pandas import Series, DataFrame\n",
    "\n",
    "\n",
    "from sklearn.metrics import precision_score, recall_score, f1_score\n",
    "import random"
   ]
  },
  {
   "cell_type": "code",
   "execution_count": 2,
   "metadata": {},
   "outputs": [],
   "source": [
    "def get_new_feature_name_df(old_feature_name_df):\n",
    "    feature_dup_df = pd.DataFrame(data=old_feature_name_df.groupby('column_name').cumcount(),\n",
    "                                  columns=['dup_cnt'])\n",
    "    feature_dup_df = feature_dup_df.reset_index()\n",
    "    new_feature_name_df = pd.merge(old_feature_name_df.reset_index(), feature_dup_df, how='outer')\n",
    "    new_feature_name_df['column_name'] = new_feature_name_df[['column_name', 'dup_cnt']].apply(lambda x : x[0]+'_'+str(x[1]) \n",
    "                                                                                         if x[1] >0 else x[0] ,  axis=1)\n",
    "    new_feature_name_df = new_feature_name_df.drop(['index'], axis=1)\n",
    "    return new_feature_name_df\n",
    "\n",
    "def get_human_dataset( ):\n",
    "    \n",
    "    # 각 데이터 파일들은 공백으로 분리되어 있으므로 read_csv에서 공백 문자를 sep으로 할당.\n",
    "    feature_name_df = pd.read_csv('./HAR/UCI/features.txt',sep=' ',\n",
    "                        header=None,names=['column_index','column_name'])\n",
    "    \n",
    "    # 중복된 피처명을 수정하는 get_new_feature_name_df()를 이용, 신규 피처명 DataFrame생성. \n",
    "    new_feature_name_df = get_new_feature_name_df(feature_name_df)\n",
    "    \n",
    "    # DataFrame에 피처명을 컬럼으로 부여하기 위해 리스트 객체로 다시 변환\n",
    "    feature_name = new_feature_name_df.iloc[:, 1].values.tolist()\n",
    "    \n",
    "    # 학습 피처 데이터 셋과 테스트 피처 데이터을 DataFrame으로 로딩. 컬럼명은 feature_name 적용\n",
    "    X_train = pd.read_csv('./HAR/UCI/train/X_train.txt',sep='\\s+', names=feature_name )\n",
    "    X_test = pd.read_csv('./HAR/UCI/test/X_test.txt',sep='\\s+', names=feature_name)\n",
    "    \n",
    "    # 학습 레이블과 테스트 레이블 데이터을 DataFrame으로 로딩하고 컬럼명은 action으로 부여\n",
    "    y_train = pd.read_csv('./HAR/UCI/train/y_train.txt',sep='\\s+',header=None,names=['action'])\n",
    "    y_test = pd.read_csv('./HAR/UCI/test/y_test.txt',sep='\\s+',header=None,names=['action'])\n",
    "    \n",
    "    # 로드된 학습/테스트용 DataFrame을 모두 반환 \n",
    "    return X_train, X_test, y_train, y_test"
   ]
  },
  {
   "cell_type": "code",
   "execution_count": 3,
   "metadata": {},
   "outputs": [
    {
     "name": "stdout",
     "output_type": "stream",
     "text": [
      "## 학습 피처 데이터 정보 ##\n",
      "<class 'pandas.core.frame.DataFrame'>\n",
      "RangeIndex: 7352 entries, 0 to 7351\n",
      "Columns: 561 entries, tBodyAcc-mean()-X to angle(Z,gravityMean)\n",
      "dtypes: float64(561)\n",
      "memory usage: 31.5 MB\n",
      "None\n"
     ]
    }
   ],
   "source": [
    "from sklearn.ensemble import RandomForestClassifier\n",
    "from sklearn.metrics import accuracy_score\n",
    "import pandas as pd\n",
    "import warnings\n",
    "warnings.filterwarnings('ignore')\n",
    "\n",
    "# 결정 트리에서 사용한 get_human_dataset( )을 이용해 학습/테스트용 DataFrame 반환\n",
    "X_train, X_test, y_train, y_test = get_human_dataset()\n",
    "\n",
    "print(\"## 학습 피처 데이터 정보 ##\")\n",
    "print(X_train.info())"
   ]
  },
  {
   "cell_type": "code",
   "execution_count": 4,
   "metadata": {},
   "outputs": [],
   "source": [
    "#스케일링\n",
    "def imp(df):\n",
    "    imputer = SimpleImputer(strategy='median')\n",
    "\n",
    "    imputer.fit(df)\n",
    "    output2 = imputer.transform(df)\n",
    "\n",
    "    output2 = pd.DataFrame(output2, columns=df.columns, index=list(df.index.values))\n",
    "\n",
    "    min_max_scaler = MinMaxScaler()\n",
    "    fitted = min_max_scaler.fit(output2)\n",
    "    output2 = min_max_scaler.transform(output2)\n",
    "    output2 = pd.DataFrame(output2, columns=df.columns, index=list(df.index.values))\n",
    "\n",
    "    datafrm = pd.DataFrame(output2)\n",
    "    return datafrm"
   ]
  },
  {
   "cell_type": "code",
   "execution_count": 5,
   "metadata": {},
   "outputs": [],
   "source": [
    "def df_maker(col_num, ind_num, fill):\n",
    "    col = []\n",
    "    ind = []\n",
    "    con = []\n",
    "    for i in range(0,col_num):\n",
    "        col.append(fill)\n",
    "    for i in range(0,ind_num):\n",
    "        ind.append(fill)\n",
    "    for i in range(0,ind_num):\n",
    "        con.append(col)\n",
    "    return pd.DataFrame(con, columns = col, index = ind)"
   ]
  },
  {
   "cell_type": "code",
   "execution_count": 6,
   "metadata": {},
   "outputs": [],
   "source": [
    "LR = LogisticRegression()\n",
    "RF = RandomForestClassifier()\n",
    "DT = DecisionTreeClassifier()\n",
    "SVM =svm.SVC(kernel = 'rbf',probability=True)\n",
    "\n",
    "LR_grid={'penalty': ['none'], \n",
    "            'C': [0.001, 0.01, 0.1, 1, 10, 100]\n",
    "                   }\n",
    "\n",
    "RF_grid={'max_depth': [4,6,8,10,12,14], # max_depth: The maximum depth of the tree.\n",
    "              'n_estimators': [100,200,400,600], # n_estimators: The number of trees in the forest.\n",
    "              'min_samples_split': [50, 100,25,75,125]\n",
    "              }\n",
    "\n",
    "DT_grid={'min_samples_leaf': [1, 2, 4, 8, 16]} \n",
    "\n",
    "SVM_grid = {'gamma': [0.01, 0.1, 1, 10, 100], \n",
    "               'C': [0.01, 0.1, 1, 10, 100]}\n",
    "\n",
    "gridlist = [LR_grid,RF_grid,DT_grid,SVM_grid]\n",
    "classlist = [LR,RF,DT,SVM]\n"
   ]
  },
  {
   "cell_type": "code",
   "execution_count": 7,
   "metadata": {},
   "outputs": [],
   "source": [
    "def gridsearch(gridlist,classlist,train_x,train_y):\n",
    "    for i in range(4):\n",
    "        grid = GridSearchCV(classlist[i], gridlist[i], scoring = 'roc_auc', cv=5,n_jobs=-1)  \n",
    "        grid.fit(train_x, train_y)\n",
    "        print(classlist[i])\n",
    "        print(grid.best_params_)\n",
    "        print(grid.best_score_)\n",
    "        classlist[i] = grid.best_estimator_\n",
    "    return classlist"
   ]
  },
  {
   "cell_type": "code",
   "execution_count": 8,
   "metadata": {},
   "outputs": [
    {
     "name": "stdout",
     "output_type": "stream",
     "text": [
      "LogisticRegression()\n",
      "{'C': 0.001, 'penalty': 'none'}\n",
      "nan\n",
      "RandomForestClassifier()\n",
      "{'max_depth': 4, 'min_samples_split': 50, 'n_estimators': 100}\n",
      "nan\n",
      "DecisionTreeClassifier()\n",
      "{'min_samples_leaf': 1}\n",
      "nan\n",
      "SVC(probability=True)\n",
      "{'C': 0.01, 'gamma': 0.01}\n",
      "nan\n"
     ]
    }
   ],
   "source": [
    "classlist = gridsearch(gridlist,classlist,X_train,y_train)"
   ]
  },
  {
   "cell_type": "code",
   "execution_count": 9,
   "metadata": {},
   "outputs": [],
   "source": [
    "LR = LogisticRegression(C= 0.001, penalty= 'none')\n",
    "RF = RandomForestClassifier(max_depth= 4, min_samples_split= 50, n_estimators= 100)\n",
    "XGB = DecisionTreeClassifier(min_samples_leaf = 1)\n",
    "SVM =svm.SVC(kernel = 'rbf',C=0.01, gamma = 0.01,probability=True)\n",
    "\n",
    "classlist = [LR,RF,XGB,SVM]\n",
    "\n"
   ]
  },
  {
   "cell_type": "code",
   "execution_count": 10,
   "metadata": {},
   "outputs": [],
   "source": [
    "def cross_val(classlist,train_x,train_y):\n",
    "    kf = StratifiedKFold(n_splits=5, shuffle=True)\n",
    "    LR = classlist[0]\n",
    "    RF = classlist[1]\n",
    "    DT = classlist[2]\n",
    "    SVM = classlist[3]\n",
    "    \n",
    "    LR.fit(train_x,train_y)\n",
    "    RF.fit(train_x,train_y)\n",
    "    DT.fit(train_x,train_y)\n",
    "    SVM.fit(train_x,train_y)\n",
    "    \n",
    "    LR_scores = cross_val_score(LR, train_x, train_y, cv = kf)\n",
    "    RF_scores = cross_val_score(RF, train_x, train_y, cv = kf)\n",
    "    DT_scores = cross_val_score(DT, train_x, train_y, cv = kf)\n",
    "    SVM_scores = cross_val_score(SVM, train_x, train_y, cv = kf)\n",
    "        \n",
    "    score_mean = [LR_scores.mean(), RF_scores.mean(), DT_scores.mean(), SVM_scores.mean()]\n",
    "    \n",
    "    score = df_maker(4,5,0)\n",
    "    score.columns = ['LR_scores','RF_scores','DT_scores','SVM_scores']\n",
    "    score[score.columns[0]] = LR_scores\n",
    "    score[score.columns[1]] = RF_scores\n",
    "    score[score.columns[2]] = DT_scores\n",
    "    score[score.columns[3]] = SVM_scores\n",
    "    score.index = [1,2,3,4,5]\n",
    "    \n",
    "    return score_mean"
   ]
  },
  {
   "cell_type": "code",
   "execution_count": 11,
   "metadata": {},
   "outputs": [
    {
     "data": {
      "text/plain": [
       "[0.9836780014521104,\n",
       " 0.9197483316916161,\n",
       " 0.9416497639164436,\n",
       " 0.7251104112617174]"
      ]
     },
     "execution_count": 11,
     "metadata": {},
     "output_type": "execute_result"
    }
   ],
   "source": [
    "cross_val(classlist,X_train,y_train)"
   ]
  },
  {
   "cell_type": "code",
   "execution_count": 12,
   "metadata": {},
   "outputs": [],
   "source": [
    "def CI(classlist,test_x,test_y):\n",
    "\n",
    "    LR = classlist[0]\n",
    "    RF = classlist[1]\n",
    "    DT = classlist[2]\n",
    "    SVM = classlist[3]\n",
    "    # 테스트 데이터로 예측 수행\n",
    "    LR_pred = LR.predict(test_x)\n",
    "    RF_pred = RF.predict(test_x)\n",
    "    DT_pred = DT.predict(test_x)\n",
    "    SVM_pred = SVM.predict(test_x)\n",
    "\n",
    "    # 평가 메트릭 계산\n",
    "    from sklearn.metrics import accuracy_score, precision_score, recall_score, f1_score\n",
    "\n",
    "    LR_accuracy = accuracy_score(test_y, LR_pred)\n",
    "    RF_accuracy = accuracy_score(test_y, RF_pred)\n",
    "    DT_accuracy = accuracy_score(test_y, DT_pred)\n",
    "    SVM_accuracy = accuracy_score(test_y, SVM_pred)\n",
    "\n",
    "    print(\"Logistic Regression 정확도:\", LR_accuracy)\n",
    "    print(\"Random Forest 정확도:\", RF_accuracy)\n",
    "    print(\"Decision Tree 정확도:\", DT_accuracy)\n",
    "    print(\"Support Vector Machine 정확도:\", SVM_accuracy)"
   ]
  },
  {
   "cell_type": "code",
   "execution_count": 13,
   "metadata": {},
   "outputs": [
    {
     "name": "stdout",
     "output_type": "stream",
     "text": [
      "Logistic Regression 정확도: 0.9565659993213438\n",
      "Random Forest 정확도: 0.8693586698337292\n",
      "Decision Tree 정확도: 0.8581608415337632\n",
      "Support Vector Machine 정확도: 0.7387173396674585\n"
     ]
    }
   ],
   "source": [
    "CI(classlist,X_test,y_test)"
   ]
  },
  {
   "cell_type": "code",
   "execution_count": 14,
   "metadata": {},
   "outputs": [
    {
     "data": {
      "text/html": [
       "<style>#sk-container-id-1 {color: black;}#sk-container-id-1 pre{padding: 0;}#sk-container-id-1 div.sk-toggleable {background-color: white;}#sk-container-id-1 label.sk-toggleable__label {cursor: pointer;display: block;width: 100%;margin-bottom: 0;padding: 0.3em;box-sizing: border-box;text-align: center;}#sk-container-id-1 label.sk-toggleable__label-arrow:before {content: \"▸\";float: left;margin-right: 0.25em;color: #696969;}#sk-container-id-1 label.sk-toggleable__label-arrow:hover:before {color: black;}#sk-container-id-1 div.sk-estimator:hover label.sk-toggleable__label-arrow:before {color: black;}#sk-container-id-1 div.sk-toggleable__content {max-height: 0;max-width: 0;overflow: hidden;text-align: left;background-color: #f0f8ff;}#sk-container-id-1 div.sk-toggleable__content pre {margin: 0.2em;color: black;border-radius: 0.25em;background-color: #f0f8ff;}#sk-container-id-1 input.sk-toggleable__control:checked~div.sk-toggleable__content {max-height: 200px;max-width: 100%;overflow: auto;}#sk-container-id-1 input.sk-toggleable__control:checked~label.sk-toggleable__label-arrow:before {content: \"▾\";}#sk-container-id-1 div.sk-estimator input.sk-toggleable__control:checked~label.sk-toggleable__label {background-color: #d4ebff;}#sk-container-id-1 div.sk-label input.sk-toggleable__control:checked~label.sk-toggleable__label {background-color: #d4ebff;}#sk-container-id-1 input.sk-hidden--visually {border: 0;clip: rect(1px 1px 1px 1px);clip: rect(1px, 1px, 1px, 1px);height: 1px;margin: -1px;overflow: hidden;padding: 0;position: absolute;width: 1px;}#sk-container-id-1 div.sk-estimator {font-family: monospace;background-color: #f0f8ff;border: 1px dotted black;border-radius: 0.25em;box-sizing: border-box;margin-bottom: 0.5em;}#sk-container-id-1 div.sk-estimator:hover {background-color: #d4ebff;}#sk-container-id-1 div.sk-parallel-item::after {content: \"\";width: 100%;border-bottom: 1px solid gray;flex-grow: 1;}#sk-container-id-1 div.sk-label:hover label.sk-toggleable__label {background-color: #d4ebff;}#sk-container-id-1 div.sk-serial::before {content: \"\";position: absolute;border-left: 1px solid gray;box-sizing: border-box;top: 0;bottom: 0;left: 50%;z-index: 0;}#sk-container-id-1 div.sk-serial {display: flex;flex-direction: column;align-items: center;background-color: white;padding-right: 0.2em;padding-left: 0.2em;position: relative;}#sk-container-id-1 div.sk-item {position: relative;z-index: 1;}#sk-container-id-1 div.sk-parallel {display: flex;align-items: stretch;justify-content: center;background-color: white;position: relative;}#sk-container-id-1 div.sk-item::before, #sk-container-id-1 div.sk-parallel-item::before {content: \"\";position: absolute;border-left: 1px solid gray;box-sizing: border-box;top: 0;bottom: 0;left: 50%;z-index: -1;}#sk-container-id-1 div.sk-parallel-item {display: flex;flex-direction: column;z-index: 1;position: relative;background-color: white;}#sk-container-id-1 div.sk-parallel-item:first-child::after {align-self: flex-end;width: 50%;}#sk-container-id-1 div.sk-parallel-item:last-child::after {align-self: flex-start;width: 50%;}#sk-container-id-1 div.sk-parallel-item:only-child::after {width: 0;}#sk-container-id-1 div.sk-dashed-wrapped {border: 1px dashed gray;margin: 0 0.4em 0.5em 0.4em;box-sizing: border-box;padding-bottom: 0.4em;background-color: white;}#sk-container-id-1 div.sk-label label {font-family: monospace;font-weight: bold;display: inline-block;line-height: 1.2em;}#sk-container-id-1 div.sk-label-container {text-align: center;}#sk-container-id-1 div.sk-container {/* jupyter's `normalize.less` sets `[hidden] { display: none; }` but bootstrap.min.css set `[hidden] { display: none !important; }` so we also need the `!important` here to be able to override the default hidden behavior on the sphinx rendered scikit-learn.org. See: https://github.com/scikit-learn/scikit-learn/issues/21755 */display: inline-block !important;position: relative;}#sk-container-id-1 div.sk-text-repr-fallback {display: none;}</style><div id=\"sk-container-id-1\" class=\"sk-top-container\"><div class=\"sk-text-repr-fallback\"><pre>LinearSVC()</pre><b>In a Jupyter environment, please rerun this cell to show the HTML representation or trust the notebook. <br />On GitHub, the HTML representation is unable to render, please try loading this page with nbviewer.org.</b></div><div class=\"sk-container\" hidden><div class=\"sk-item\"><div class=\"sk-estimator sk-toggleable\"><input class=\"sk-toggleable__control sk-hidden--visually\" id=\"sk-estimator-id-1\" type=\"checkbox\" checked><label for=\"sk-estimator-id-1\" class=\"sk-toggleable__label sk-toggleable__label-arrow\">LinearSVC</label><div class=\"sk-toggleable__content\"><pre>LinearSVC()</pre></div></div></div></div></div>"
      ],
      "text/plain": [
       "LinearSVC()"
      ]
     },
     "execution_count": 14,
     "metadata": {},
     "output_type": "execute_result"
    }
   ],
   "source": [
    "from sklearn.svm import LinearSVC\n",
    "lsvm = LinearSVC()\n",
    "\n",
    "# 모델 학습\n",
    "lsvm.fit(X_train, y_train)"
   ]
  },
  {
   "cell_type": "code",
   "execution_count": 15,
   "metadata": {},
   "outputs": [
    {
     "name": "stdout",
     "output_type": "stream",
     "text": [
      "정확도: 0.97\n"
     ]
    }
   ],
   "source": [
    "# 테스트 데이터로 예측 수행\n",
    "y_pred = lsvm.predict(X_test)\n",
    "\n",
    "# 정확도 평가\n",
    "accuracy = accuracy_score(y_test, y_pred)\n",
    "print(f'정확도: {accuracy:.2f}')"
   ]
  }
 ],
 "metadata": {
  "kernelspec": {
   "display_name": "Python 3",
   "language": "python",
   "name": "python3"
  },
  "language_info": {
   "codemirror_mode": {
    "name": "ipython",
    "version": 3
   },
   "file_extension": ".py",
   "mimetype": "text/x-python",
   "name": "python",
   "nbconvert_exporter": "python",
   "pygments_lexer": "ipython3",
   "version": "3.10.7"
  }
 },
 "nbformat": 4,
 "nbformat_minor": 4
}
