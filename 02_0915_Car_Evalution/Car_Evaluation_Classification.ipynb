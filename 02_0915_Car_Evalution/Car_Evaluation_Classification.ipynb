{
 "cells": [
  {
   "cell_type": "code",
   "execution_count": 1,
   "metadata": {},
   "outputs": [],
   "source": [
    "import pandas as pd\n",
    "import matplotlib.pyplot as plt\n",
    "import numpy as np\n",
    "import pandas as pd\n",
    "import seaborn as sns\n",
    "from sklearn.model_selection import train_test_split\n",
    "from sklearn import metrics\n",
    "import tensorflow as tf\n",
    "from tensorflow import keras\n",
    "import keras.utils\n",
    "from tensorflow.python.keras.utils import np_utils"
   ]
  },
  {
   "cell_type": "code",
   "execution_count": 2,
   "metadata": {},
   "outputs": [],
   "source": [
    "df = pd.read_csv(\"car.data\", header=None)\n",
    "\n",
    "df.columns = ['buying', 'maint', 'doors', 'persons', 'lug_boot', 'safety','label']\n"
   ]
  },
  {
   "cell_type": "code",
   "execution_count": 3,
   "metadata": {},
   "outputs": [
    {
     "name": "stdout",
     "output_type": "stream",
     "text": [
      "buying      0\n",
      "maint       0\n",
      "doors       0\n",
      "persons     0\n",
      "lug_boot    0\n",
      "safety      0\n",
      "label       0\n",
      "dtype: int64\n"
     ]
    }
   ],
   "source": [
    "# 결측치 확인\n",
    "missing_values = df.isna().sum()\n",
    "print (missing_values)\n",
    "# 결측치가 있는 행 제거\n",
    "df = df.dropna()"
   ]
  },
  {
   "cell_type": "code",
   "execution_count": 4,
   "metadata": {},
   "outputs": [
    {
     "data": {
      "text/html": [
       "<div>\n",
       "<style scoped>\n",
       "    .dataframe tbody tr th:only-of-type {\n",
       "        vertical-align: middle;\n",
       "    }\n",
       "\n",
       "    .dataframe tbody tr th {\n",
       "        vertical-align: top;\n",
       "    }\n",
       "\n",
       "    .dataframe thead th {\n",
       "        text-align: right;\n",
       "    }\n",
       "</style>\n",
       "<table border=\"1\" class=\"dataframe\">\n",
       "  <thead>\n",
       "    <tr style=\"text-align: right;\">\n",
       "      <th></th>\n",
       "      <th>buying</th>\n",
       "      <th>maint</th>\n",
       "      <th>doors</th>\n",
       "      <th>persons</th>\n",
       "      <th>lug_boot</th>\n",
       "      <th>safety</th>\n",
       "      <th>label</th>\n",
       "    </tr>\n",
       "  </thead>\n",
       "  <tbody>\n",
       "    <tr>\n",
       "      <th>0</th>\n",
       "      <td>vhigh</td>\n",
       "      <td>vhigh</td>\n",
       "      <td>2</td>\n",
       "      <td>2</td>\n",
       "      <td>small</td>\n",
       "      <td>low</td>\n",
       "      <td>unacc</td>\n",
       "    </tr>\n",
       "    <tr>\n",
       "      <th>1</th>\n",
       "      <td>vhigh</td>\n",
       "      <td>vhigh</td>\n",
       "      <td>2</td>\n",
       "      <td>2</td>\n",
       "      <td>small</td>\n",
       "      <td>med</td>\n",
       "      <td>unacc</td>\n",
       "    </tr>\n",
       "    <tr>\n",
       "      <th>2</th>\n",
       "      <td>vhigh</td>\n",
       "      <td>vhigh</td>\n",
       "      <td>2</td>\n",
       "      <td>2</td>\n",
       "      <td>small</td>\n",
       "      <td>high</td>\n",
       "      <td>unacc</td>\n",
       "    </tr>\n",
       "    <tr>\n",
       "      <th>3</th>\n",
       "      <td>vhigh</td>\n",
       "      <td>vhigh</td>\n",
       "      <td>2</td>\n",
       "      <td>2</td>\n",
       "      <td>med</td>\n",
       "      <td>low</td>\n",
       "      <td>unacc</td>\n",
       "    </tr>\n",
       "    <tr>\n",
       "      <th>4</th>\n",
       "      <td>vhigh</td>\n",
       "      <td>vhigh</td>\n",
       "      <td>2</td>\n",
       "      <td>2</td>\n",
       "      <td>med</td>\n",
       "      <td>med</td>\n",
       "      <td>unacc</td>\n",
       "    </tr>\n",
       "    <tr>\n",
       "      <th>...</th>\n",
       "      <td>...</td>\n",
       "      <td>...</td>\n",
       "      <td>...</td>\n",
       "      <td>...</td>\n",
       "      <td>...</td>\n",
       "      <td>...</td>\n",
       "      <td>...</td>\n",
       "    </tr>\n",
       "    <tr>\n",
       "      <th>1723</th>\n",
       "      <td>low</td>\n",
       "      <td>low</td>\n",
       "      <td>5more</td>\n",
       "      <td>more</td>\n",
       "      <td>med</td>\n",
       "      <td>med</td>\n",
       "      <td>good</td>\n",
       "    </tr>\n",
       "    <tr>\n",
       "      <th>1724</th>\n",
       "      <td>low</td>\n",
       "      <td>low</td>\n",
       "      <td>5more</td>\n",
       "      <td>more</td>\n",
       "      <td>med</td>\n",
       "      <td>high</td>\n",
       "      <td>vgood</td>\n",
       "    </tr>\n",
       "    <tr>\n",
       "      <th>1725</th>\n",
       "      <td>low</td>\n",
       "      <td>low</td>\n",
       "      <td>5more</td>\n",
       "      <td>more</td>\n",
       "      <td>big</td>\n",
       "      <td>low</td>\n",
       "      <td>unacc</td>\n",
       "    </tr>\n",
       "    <tr>\n",
       "      <th>1726</th>\n",
       "      <td>low</td>\n",
       "      <td>low</td>\n",
       "      <td>5more</td>\n",
       "      <td>more</td>\n",
       "      <td>big</td>\n",
       "      <td>med</td>\n",
       "      <td>good</td>\n",
       "    </tr>\n",
       "    <tr>\n",
       "      <th>1727</th>\n",
       "      <td>low</td>\n",
       "      <td>low</td>\n",
       "      <td>5more</td>\n",
       "      <td>more</td>\n",
       "      <td>big</td>\n",
       "      <td>high</td>\n",
       "      <td>vgood</td>\n",
       "    </tr>\n",
       "  </tbody>\n",
       "</table>\n",
       "<p>1728 rows × 7 columns</p>\n",
       "</div>"
      ],
      "text/plain": [
       "     buying  maint  doors persons lug_boot safety  label\n",
       "0     vhigh  vhigh      2       2    small    low  unacc\n",
       "1     vhigh  vhigh      2       2    small    med  unacc\n",
       "2     vhigh  vhigh      2       2    small   high  unacc\n",
       "3     vhigh  vhigh      2       2      med    low  unacc\n",
       "4     vhigh  vhigh      2       2      med    med  unacc\n",
       "...     ...    ...    ...     ...      ...    ...    ...\n",
       "1723    low    low  5more    more      med    med   good\n",
       "1724    low    low  5more    more      med   high  vgood\n",
       "1725    low    low  5more    more      big    low  unacc\n",
       "1726    low    low  5more    more      big    med   good\n",
       "1727    low    low  5more    more      big   high  vgood\n",
       "\n",
       "[1728 rows x 7 columns]"
      ]
     },
     "execution_count": 4,
     "metadata": {},
     "output_type": "execute_result"
    }
   ],
   "source": [
    "df"
   ]
  },
  {
   "cell_type": "code",
   "execution_count": 5,
   "metadata": {},
   "outputs": [
    {
     "name": "stdout",
     "output_type": "stream",
     "text": [
      "  buying  maint doors persons lug_boot safety\n",
      "0  vhigh  vhigh     2       2    small    low\n",
      "1  vhigh  vhigh     2       2    small    med\n",
      "2  vhigh  vhigh     2       2    small   high\n",
      "3  vhigh  vhigh     2       2      med    low\n",
      "4  vhigh  vhigh     2       2      med    med\n",
      "0    unacc\n",
      "1    unacc\n",
      "2    unacc\n",
      "3    unacc\n",
      "4    unacc\n",
      "Name: label, dtype: object\n"
     ]
    }
   ],
   "source": [
    "\n",
    "target = df['label']\n",
    "\n",
    "\n",
    "features = df.drop(columns=['label'])\n",
    "\n",
    "\n",
    "print(features.head())\n",
    "print(target.head())"
   ]
  },
  {
   "cell_type": "code",
   "execution_count": 6,
   "metadata": {},
   "outputs": [
    {
     "data": {
      "text/plain": [
       "0       unacc\n",
       "1       unacc\n",
       "2       unacc\n",
       "3       unacc\n",
       "4       unacc\n",
       "        ...  \n",
       "1723     good\n",
       "1724    vgood\n",
       "1725    unacc\n",
       "1726     good\n",
       "1727    vgood\n",
       "Name: label, Length: 1728, dtype: object"
      ]
     },
     "execution_count": 6,
     "metadata": {},
     "output_type": "execute_result"
    }
   ],
   "source": [
    "target"
   ]
  },
  {
   "cell_type": "code",
   "execution_count": 7,
   "metadata": {},
   "outputs": [],
   "source": [
    "one_hot_encoded = pd.get_dummies(target)"
   ]
  },
  {
   "cell_type": "code",
   "execution_count": 8,
   "metadata": {},
   "outputs": [
    {
     "data": {
      "text/plain": [
       "array([[False, False,  True, False],\n",
       "       [False, False,  True, False],\n",
       "       [False, False,  True, False],\n",
       "       ...,\n",
       "       [False, False,  True, False],\n",
       "       [False,  True, False, False],\n",
       "       [False, False, False,  True]])"
      ]
     },
     "execution_count": 8,
     "metadata": {},
     "output_type": "execute_result"
    }
   ],
   "source": [
    "one_hot_encoded.values"
   ]
  },
  {
   "cell_type": "code",
   "execution_count": 9,
   "metadata": {},
   "outputs": [],
   "source": [
    "from sklearn.preprocessing import LabelEncoder\n",
    "label_encoder = LabelEncoder()\n",
    "for i in features.columns:\n",
    "\n",
    "    features[i]=label_encoder.fit_transform(features[i])"
   ]
  },
  {
   "cell_type": "code",
   "execution_count": 10,
   "metadata": {},
   "outputs": [
    {
     "data": {
      "text/html": [
       "<div>\n",
       "<style scoped>\n",
       "    .dataframe tbody tr th:only-of-type {\n",
       "        vertical-align: middle;\n",
       "    }\n",
       "\n",
       "    .dataframe tbody tr th {\n",
       "        vertical-align: top;\n",
       "    }\n",
       "\n",
       "    .dataframe thead th {\n",
       "        text-align: right;\n",
       "    }\n",
       "</style>\n",
       "<table border=\"1\" class=\"dataframe\">\n",
       "  <thead>\n",
       "    <tr style=\"text-align: right;\">\n",
       "      <th></th>\n",
       "      <th>buying</th>\n",
       "      <th>maint</th>\n",
       "      <th>doors</th>\n",
       "      <th>persons</th>\n",
       "      <th>lug_boot</th>\n",
       "      <th>safety</th>\n",
       "    </tr>\n",
       "  </thead>\n",
       "  <tbody>\n",
       "    <tr>\n",
       "      <th>0</th>\n",
       "      <td>3</td>\n",
       "      <td>3</td>\n",
       "      <td>0</td>\n",
       "      <td>0</td>\n",
       "      <td>2</td>\n",
       "      <td>1</td>\n",
       "    </tr>\n",
       "    <tr>\n",
       "      <th>1</th>\n",
       "      <td>3</td>\n",
       "      <td>3</td>\n",
       "      <td>0</td>\n",
       "      <td>0</td>\n",
       "      <td>2</td>\n",
       "      <td>2</td>\n",
       "    </tr>\n",
       "    <tr>\n",
       "      <th>2</th>\n",
       "      <td>3</td>\n",
       "      <td>3</td>\n",
       "      <td>0</td>\n",
       "      <td>0</td>\n",
       "      <td>2</td>\n",
       "      <td>0</td>\n",
       "    </tr>\n",
       "    <tr>\n",
       "      <th>3</th>\n",
       "      <td>3</td>\n",
       "      <td>3</td>\n",
       "      <td>0</td>\n",
       "      <td>0</td>\n",
       "      <td>1</td>\n",
       "      <td>1</td>\n",
       "    </tr>\n",
       "    <tr>\n",
       "      <th>4</th>\n",
       "      <td>3</td>\n",
       "      <td>3</td>\n",
       "      <td>0</td>\n",
       "      <td>0</td>\n",
       "      <td>1</td>\n",
       "      <td>2</td>\n",
       "    </tr>\n",
       "    <tr>\n",
       "      <th>...</th>\n",
       "      <td>...</td>\n",
       "      <td>...</td>\n",
       "      <td>...</td>\n",
       "      <td>...</td>\n",
       "      <td>...</td>\n",
       "      <td>...</td>\n",
       "    </tr>\n",
       "    <tr>\n",
       "      <th>1723</th>\n",
       "      <td>1</td>\n",
       "      <td>1</td>\n",
       "      <td>3</td>\n",
       "      <td>2</td>\n",
       "      <td>1</td>\n",
       "      <td>2</td>\n",
       "    </tr>\n",
       "    <tr>\n",
       "      <th>1724</th>\n",
       "      <td>1</td>\n",
       "      <td>1</td>\n",
       "      <td>3</td>\n",
       "      <td>2</td>\n",
       "      <td>1</td>\n",
       "      <td>0</td>\n",
       "    </tr>\n",
       "    <tr>\n",
       "      <th>1725</th>\n",
       "      <td>1</td>\n",
       "      <td>1</td>\n",
       "      <td>3</td>\n",
       "      <td>2</td>\n",
       "      <td>0</td>\n",
       "      <td>1</td>\n",
       "    </tr>\n",
       "    <tr>\n",
       "      <th>1726</th>\n",
       "      <td>1</td>\n",
       "      <td>1</td>\n",
       "      <td>3</td>\n",
       "      <td>2</td>\n",
       "      <td>0</td>\n",
       "      <td>2</td>\n",
       "    </tr>\n",
       "    <tr>\n",
       "      <th>1727</th>\n",
       "      <td>1</td>\n",
       "      <td>1</td>\n",
       "      <td>3</td>\n",
       "      <td>2</td>\n",
       "      <td>0</td>\n",
       "      <td>0</td>\n",
       "    </tr>\n",
       "  </tbody>\n",
       "</table>\n",
       "<p>1728 rows × 6 columns</p>\n",
       "</div>"
      ],
      "text/plain": [
       "      buying  maint  doors  persons  lug_boot  safety\n",
       "0          3      3      0        0         2       1\n",
       "1          3      3      0        0         2       2\n",
       "2          3      3      0        0         2       0\n",
       "3          3      3      0        0         1       1\n",
       "4          3      3      0        0         1       2\n",
       "...      ...    ...    ...      ...       ...     ...\n",
       "1723       1      1      3        2         1       2\n",
       "1724       1      1      3        2         1       0\n",
       "1725       1      1      3        2         0       1\n",
       "1726       1      1      3        2         0       2\n",
       "1727       1      1      3        2         0       0\n",
       "\n",
       "[1728 rows x 6 columns]"
      ]
     },
     "execution_count": 10,
     "metadata": {},
     "output_type": "execute_result"
    }
   ],
   "source": [
    "features\n"
   ]
  },
  {
   "cell_type": "code",
   "execution_count": 11,
   "metadata": {},
   "outputs": [],
   "source": [
    "x = features.values\n",
    "y = one_hot_encoded.values"
   ]
  },
  {
   "cell_type": "code",
   "execution_count": 12,
   "metadata": {},
   "outputs": [
    {
     "data": {
      "text/plain": [
       "(1728, 6)"
      ]
     },
     "execution_count": 12,
     "metadata": {},
     "output_type": "execute_result"
    }
   ],
   "source": [
    "x.shape"
   ]
  },
  {
   "cell_type": "code",
   "execution_count": 13,
   "metadata": {},
   "outputs": [
    {
     "data": {
      "text/plain": [
       "(1728, 4)"
      ]
     },
     "execution_count": 13,
     "metadata": {},
     "output_type": "execute_result"
    }
   ],
   "source": [
    "y.shape"
   ]
  },
  {
   "cell_type": "code",
   "execution_count": 14,
   "metadata": {},
   "outputs": [],
   "source": [
    "X_train,X_test,y_train,y_test=train_test_split(x,y,test_size=0.2,random_state=423)"
   ]
  },
  {
   "cell_type": "code",
   "execution_count": 15,
   "metadata": {},
   "outputs": [
    {
     "name": "stderr",
     "output_type": "stream",
     "text": [
      "WARNING:absl:`lr` is deprecated in Keras optimizer, please use `learning_rate` or use the legacy optimizer, e.g.,tf.keras.optimizers.legacy.Adam.\n"
     ]
    },
    {
     "name": "stdout",
     "output_type": "stream",
     "text": [
      "Model: \"sequential\"\n",
      "_________________________________________________________________\n",
      " Layer (type)                Output Shape              Param #   \n",
      "=================================================================\n",
      " dense (Dense)               (None, 6)                 42        \n",
      "                                                                 \n",
      " dense_1 (Dense)             (None, 6)                 42        \n",
      "                                                                 \n",
      " dense_2 (Dense)             (None, 6)                 42        \n",
      "                                                                 \n",
      " dense_3 (Dense)             (None, 4)                 28        \n",
      "                                                                 \n",
      "=================================================================\n",
      "Total params: 154 (616.00 Byte)\n",
      "Trainable params: 154 (616.00 Byte)\n",
      "Non-trainable params: 0 (0.00 Byte)\n",
      "_________________________________________________________________\n"
     ]
    }
   ],
   "source": [
    "from keras.models import Sequential\n",
    "from keras.layers import Dense\n",
    "from keras.optimizers import Adam\n",
    "\n",
    "model = Sequential()\n",
    "\n",
    "model.add(Dense(6, input_shape=(6,), activation='relu'))\n",
    "model.add(Dense(6, activation='relu'))\n",
    "model.add(Dense(6, activation='relu'))\n",
    "model.add(Dense(4, activation='softmax'))\n",
    "\n",
    "model.compile(optimizer=Adam(lr=0.02), loss='categorical_crossentropy', metrics=['accuracy'])\n",
    "\n",
    "model.summary()\n"
   ]
  },
  {
   "cell_type": "code",
   "execution_count": 16,
   "metadata": {},
   "outputs": [
    {
     "name": "stdout",
     "output_type": "stream",
     "text": [
      "Epoch 1/100\n",
      "44/44 [==============================] - 1s 5ms/step - loss: 1.6119 - accuracy: 0.1860 - val_loss: 1.3133 - val_accuracy: 0.6879\n",
      "Epoch 2/100\n",
      "44/44 [==============================] - 0s 2ms/step - loss: 1.1927 - accuracy: 0.6918 - val_loss: 1.0084 - val_accuracy: 0.7254\n",
      "Epoch 3/100\n",
      "44/44 [==============================] - 0s 2ms/step - loss: 1.0083 - accuracy: 0.6939 - val_loss: 0.9060 - val_accuracy: 0.7225\n",
      "Epoch 4/100\n",
      "44/44 [==============================] - 0s 2ms/step - loss: 0.9353 - accuracy: 0.6939 - val_loss: 0.8587 - val_accuracy: 0.7254\n",
      "Epoch 5/100\n",
      "44/44 [==============================] - 0s 2ms/step - loss: 0.8981 - accuracy: 0.6939 - val_loss: 0.8382 - val_accuracy: 0.7254\n",
      "Epoch 6/100\n",
      "44/44 [==============================] - 0s 2ms/step - loss: 0.8796 - accuracy: 0.6939 - val_loss: 0.8263 - val_accuracy: 0.7254\n",
      "Epoch 7/100\n",
      "44/44 [==============================] - 0s 2ms/step - loss: 0.8688 - accuracy: 0.6939 - val_loss: 0.8164 - val_accuracy: 0.7254\n",
      "Epoch 8/100\n",
      "44/44 [==============================] - 0s 2ms/step - loss: 0.8605 - accuracy: 0.6939 - val_loss: 0.8082 - val_accuracy: 0.7254\n",
      "Epoch 9/100\n",
      "44/44 [==============================] - 0s 3ms/step - loss: 0.8542 - accuracy: 0.6939 - val_loss: 0.8019 - val_accuracy: 0.7254\n",
      "Epoch 10/100\n",
      "44/44 [==============================] - 0s 2ms/step - loss: 0.8458 - accuracy: 0.6939 - val_loss: 0.7950 - val_accuracy: 0.7254\n",
      "Epoch 11/100\n",
      "44/44 [==============================] - 0s 2ms/step - loss: 0.8338 - accuracy: 0.6939 - val_loss: 0.7839 - val_accuracy: 0.7254\n",
      "Epoch 12/100\n",
      "44/44 [==============================] - 0s 2ms/step - loss: 0.8157 - accuracy: 0.6939 - val_loss: 0.7704 - val_accuracy: 0.7254\n",
      "Epoch 13/100\n",
      "44/44 [==============================] - 0s 2ms/step - loss: 0.7985 - accuracy: 0.6939 - val_loss: 0.7488 - val_accuracy: 0.7254\n",
      "Epoch 14/100\n",
      "44/44 [==============================] - 0s 2ms/step - loss: 0.7829 - accuracy: 0.6939 - val_loss: 0.7248 - val_accuracy: 0.7254\n",
      "Epoch 15/100\n",
      "44/44 [==============================] - 0s 3ms/step - loss: 0.7616 - accuracy: 0.6939 - val_loss: 0.6982 - val_accuracy: 0.7254\n",
      "Epoch 16/100\n",
      "44/44 [==============================] - 0s 2ms/step - loss: 0.7474 - accuracy: 0.6939 - val_loss: 0.6786 - val_accuracy: 0.7254\n",
      "Epoch 17/100\n",
      "44/44 [==============================] - 0s 2ms/step - loss: 0.7294 - accuracy: 0.6939 - val_loss: 0.6594 - val_accuracy: 0.7254\n",
      "Epoch 18/100\n",
      "44/44 [==============================] - 0s 3ms/step - loss: 0.7200 - accuracy: 0.6932 - val_loss: 0.6523 - val_accuracy: 0.7254\n",
      "Epoch 19/100\n",
      "44/44 [==============================] - 0s 2ms/step - loss: 0.7087 - accuracy: 0.6925 - val_loss: 0.6433 - val_accuracy: 0.7254\n",
      "Epoch 20/100\n",
      "44/44 [==============================] - 0s 2ms/step - loss: 0.7019 - accuracy: 0.6925 - val_loss: 0.6379 - val_accuracy: 0.7283\n",
      "Epoch 21/100\n",
      "44/44 [==============================] - 0s 2ms/step - loss: 0.6961 - accuracy: 0.6903 - val_loss: 0.6354 - val_accuracy: 0.7283\n",
      "Epoch 22/100\n",
      "44/44 [==============================] - 0s 2ms/step - loss: 0.6887 - accuracy: 0.6925 - val_loss: 0.6261 - val_accuracy: 0.7225\n",
      "Epoch 23/100\n",
      "44/44 [==============================] - 0s 2ms/step - loss: 0.6825 - accuracy: 0.6946 - val_loss: 0.6207 - val_accuracy: 0.7254\n",
      "Epoch 24/100\n",
      "44/44 [==============================] - 0s 2ms/step - loss: 0.6772 - accuracy: 0.6954 - val_loss: 0.6161 - val_accuracy: 0.7254\n",
      "Epoch 25/100\n",
      "44/44 [==============================] - 0s 2ms/step - loss: 0.6732 - accuracy: 0.6910 - val_loss: 0.6173 - val_accuracy: 0.7283\n",
      "Epoch 26/100\n",
      "44/44 [==============================] - 0s 2ms/step - loss: 0.6685 - accuracy: 0.6932 - val_loss: 0.6106 - val_accuracy: 0.7225\n",
      "Epoch 27/100\n",
      "44/44 [==============================] - 0s 2ms/step - loss: 0.6636 - accuracy: 0.6925 - val_loss: 0.6089 - val_accuracy: 0.7283\n",
      "Epoch 28/100\n",
      "44/44 [==============================] - 0s 3ms/step - loss: 0.6614 - accuracy: 0.6925 - val_loss: 0.6037 - val_accuracy: 0.7312\n",
      "Epoch 29/100\n",
      "44/44 [==============================] - 0s 2ms/step - loss: 0.6569 - accuracy: 0.6910 - val_loss: 0.6061 - val_accuracy: 0.7312\n",
      "Epoch 30/100\n",
      "44/44 [==============================] - 0s 2ms/step - loss: 0.6540 - accuracy: 0.6867 - val_loss: 0.5970 - val_accuracy: 0.7312\n",
      "Epoch 31/100\n",
      "44/44 [==============================] - 0s 2ms/step - loss: 0.6510 - accuracy: 0.6896 - val_loss: 0.5937 - val_accuracy: 0.7312\n",
      "Epoch 32/100\n",
      "44/44 [==============================] - 0s 2ms/step - loss: 0.6471 - accuracy: 0.6925 - val_loss: 0.5891 - val_accuracy: 0.7254\n",
      "Epoch 33/100\n",
      "44/44 [==============================] - 0s 2ms/step - loss: 0.6454 - accuracy: 0.6896 - val_loss: 0.5869 - val_accuracy: 0.7312\n",
      "Epoch 34/100\n",
      "44/44 [==============================] - 0s 3ms/step - loss: 0.6428 - accuracy: 0.6939 - val_loss: 0.5872 - val_accuracy: 0.7312\n",
      "Epoch 35/100\n",
      "44/44 [==============================] - 0s 2ms/step - loss: 0.6393 - accuracy: 0.6903 - val_loss: 0.5856 - val_accuracy: 0.7341\n",
      "Epoch 36/100\n",
      "44/44 [==============================] - 0s 2ms/step - loss: 0.6371 - accuracy: 0.6925 - val_loss: 0.5808 - val_accuracy: 0.7370\n",
      "Epoch 37/100\n",
      "44/44 [==============================] - 0s 2ms/step - loss: 0.6340 - accuracy: 0.6852 - val_loss: 0.5812 - val_accuracy: 0.7428\n",
      "Epoch 38/100\n",
      "44/44 [==============================] - 0s 2ms/step - loss: 0.6302 - accuracy: 0.6896 - val_loss: 0.5762 - val_accuracy: 0.7399\n",
      "Epoch 39/100\n",
      "44/44 [==============================] - 0s 2ms/step - loss: 0.6300 - accuracy: 0.6795 - val_loss: 0.5743 - val_accuracy: 0.7341\n",
      "Epoch 40/100\n",
      "44/44 [==============================] - 0s 2ms/step - loss: 0.6274 - accuracy: 0.6903 - val_loss: 0.5748 - val_accuracy: 0.7399\n",
      "Epoch 41/100\n",
      "44/44 [==============================] - 0s 2ms/step - loss: 0.6253 - accuracy: 0.6860 - val_loss: 0.5711 - val_accuracy: 0.7428\n",
      "Epoch 42/100\n",
      "44/44 [==============================] - 0s 2ms/step - loss: 0.6227 - accuracy: 0.6744 - val_loss: 0.5696 - val_accuracy: 0.7428\n",
      "Epoch 43/100\n",
      "44/44 [==============================] - 0s 2ms/step - loss: 0.6188 - accuracy: 0.6867 - val_loss: 0.5790 - val_accuracy: 0.7254\n",
      "Epoch 44/100\n",
      "44/44 [==============================] - 0s 2ms/step - loss: 0.6192 - accuracy: 0.6802 - val_loss: 0.5699 - val_accuracy: 0.7312\n",
      "Epoch 45/100\n",
      "44/44 [==============================] - 0s 2ms/step - loss: 0.6152 - accuracy: 0.6852 - val_loss: 0.5663 - val_accuracy: 0.7370\n",
      "Epoch 46/100\n",
      "44/44 [==============================] - 0s 2ms/step - loss: 0.6124 - accuracy: 0.6773 - val_loss: 0.5644 - val_accuracy: 0.7283\n",
      "Epoch 47/100\n",
      "44/44 [==============================] - 0s 3ms/step - loss: 0.6095 - accuracy: 0.6708 - val_loss: 0.5636 - val_accuracy: 0.7312\n",
      "Epoch 48/100\n",
      "44/44 [==============================] - 0s 2ms/step - loss: 0.6085 - accuracy: 0.6816 - val_loss: 0.5606 - val_accuracy: 0.7312\n",
      "Epoch 49/100\n",
      "44/44 [==============================] - 0s 2ms/step - loss: 0.6078 - accuracy: 0.6737 - val_loss: 0.5594 - val_accuracy: 0.7312\n",
      "Epoch 50/100\n",
      "44/44 [==============================] - 0s 2ms/step - loss: 0.6039 - accuracy: 0.6795 - val_loss: 0.5579 - val_accuracy: 0.7283\n",
      "Epoch 51/100\n",
      "44/44 [==============================] - 0s 2ms/step - loss: 0.6017 - accuracy: 0.6729 - val_loss: 0.5595 - val_accuracy: 0.7225\n",
      "Epoch 52/100\n",
      "44/44 [==============================] - 0s 2ms/step - loss: 0.6012 - accuracy: 0.6823 - val_loss: 0.5552 - val_accuracy: 0.7283\n",
      "Epoch 53/100\n",
      "44/44 [==============================] - 0s 2ms/step - loss: 0.5984 - accuracy: 0.6758 - val_loss: 0.5581 - val_accuracy: 0.7139\n",
      "Epoch 54/100\n",
      "44/44 [==============================] - 0s 2ms/step - loss: 0.5981 - accuracy: 0.6744 - val_loss: 0.5571 - val_accuracy: 0.7254\n",
      "Epoch 55/100\n",
      "44/44 [==============================] - 0s 2ms/step - loss: 0.5935 - accuracy: 0.6816 - val_loss: 0.5503 - val_accuracy: 0.7225\n",
      "Epoch 56/100\n",
      "44/44 [==============================] - 0s 2ms/step - loss: 0.5906 - accuracy: 0.6751 - val_loss: 0.5476 - val_accuracy: 0.7197\n",
      "Epoch 57/100\n",
      "44/44 [==============================] - 0s 2ms/step - loss: 0.5888 - accuracy: 0.6751 - val_loss: 0.5457 - val_accuracy: 0.7225\n",
      "Epoch 58/100\n",
      "44/44 [==============================] - 0s 2ms/step - loss: 0.5860 - accuracy: 0.6679 - val_loss: 0.5498 - val_accuracy: 0.7197\n",
      "Epoch 59/100\n",
      "44/44 [==============================] - 0s 2ms/step - loss: 0.5835 - accuracy: 0.6744 - val_loss: 0.5431 - val_accuracy: 0.7197\n",
      "Epoch 60/100\n",
      "44/44 [==============================] - 0s 2ms/step - loss: 0.5817 - accuracy: 0.6700 - val_loss: 0.5407 - val_accuracy: 0.7254\n",
      "Epoch 61/100\n",
      "44/44 [==============================] - 0s 2ms/step - loss: 0.5799 - accuracy: 0.6693 - val_loss: 0.5398 - val_accuracy: 0.7168\n",
      "Epoch 62/100\n",
      "44/44 [==============================] - 0s 2ms/step - loss: 0.5775 - accuracy: 0.6722 - val_loss: 0.5379 - val_accuracy: 0.7168\n",
      "Epoch 63/100\n",
      "44/44 [==============================] - 0s 2ms/step - loss: 0.5739 - accuracy: 0.6729 - val_loss: 0.5367 - val_accuracy: 0.7197\n",
      "Epoch 64/100\n",
      "44/44 [==============================] - 0s 2ms/step - loss: 0.5735 - accuracy: 0.6722 - val_loss: 0.5379 - val_accuracy: 0.7168\n",
      "Epoch 65/100\n",
      "44/44 [==============================] - 0s 2ms/step - loss: 0.5723 - accuracy: 0.6657 - val_loss: 0.5365 - val_accuracy: 0.7139\n",
      "Epoch 66/100\n",
      "44/44 [==============================] - 0s 2ms/step - loss: 0.5704 - accuracy: 0.6744 - val_loss: 0.5343 - val_accuracy: 0.7139\n",
      "Epoch 67/100\n",
      "44/44 [==============================] - 0s 2ms/step - loss: 0.5665 - accuracy: 0.6722 - val_loss: 0.5341 - val_accuracy: 0.7168\n",
      "Epoch 68/100\n",
      "44/44 [==============================] - 0s 2ms/step - loss: 0.5648 - accuracy: 0.6758 - val_loss: 0.5304 - val_accuracy: 0.7197\n",
      "Epoch 69/100\n",
      "44/44 [==============================] - 0s 3ms/step - loss: 0.5640 - accuracy: 0.6744 - val_loss: 0.5296 - val_accuracy: 0.7168\n",
      "Epoch 70/100\n",
      "44/44 [==============================] - 0s 2ms/step - loss: 0.5605 - accuracy: 0.6773 - val_loss: 0.5344 - val_accuracy: 0.7168\n",
      "Epoch 71/100\n",
      "44/44 [==============================] - 0s 2ms/step - loss: 0.5583 - accuracy: 0.6795 - val_loss: 0.5315 - val_accuracy: 0.7139\n",
      "Epoch 72/100\n",
      "44/44 [==============================] - 0s 2ms/step - loss: 0.5563 - accuracy: 0.6773 - val_loss: 0.5276 - val_accuracy: 0.7139\n",
      "Epoch 73/100\n",
      "44/44 [==============================] - 0s 2ms/step - loss: 0.5560 - accuracy: 0.6787 - val_loss: 0.5286 - val_accuracy: 0.7110\n",
      "Epoch 74/100\n",
      "44/44 [==============================] - 0s 2ms/step - loss: 0.5536 - accuracy: 0.6795 - val_loss: 0.5236 - val_accuracy: 0.7168\n",
      "Epoch 75/100\n",
      "44/44 [==============================] - 0s 2ms/step - loss: 0.5530 - accuracy: 0.6881 - val_loss: 0.5237 - val_accuracy: 0.7197\n",
      "Epoch 76/100\n",
      "44/44 [==============================] - 0s 2ms/step - loss: 0.5502 - accuracy: 0.6831 - val_loss: 0.5211 - val_accuracy: 0.7225\n",
      "Epoch 77/100\n",
      "44/44 [==============================] - 0s 2ms/step - loss: 0.5489 - accuracy: 0.6860 - val_loss: 0.5236 - val_accuracy: 0.7254\n",
      "Epoch 78/100\n",
      "44/44 [==============================] - 0s 2ms/step - loss: 0.5471 - accuracy: 0.6860 - val_loss: 0.5252 - val_accuracy: 0.7370\n",
      "Epoch 79/100\n",
      "44/44 [==============================] - 0s 2ms/step - loss: 0.5460 - accuracy: 0.6903 - val_loss: 0.5195 - val_accuracy: 0.7312\n",
      "Epoch 80/100\n",
      "44/44 [==============================] - 0s 2ms/step - loss: 0.5438 - accuracy: 0.6968 - val_loss: 0.5200 - val_accuracy: 0.7254\n",
      "Epoch 81/100\n",
      "44/44 [==============================] - 0s 2ms/step - loss: 0.5424 - accuracy: 0.6925 - val_loss: 0.5190 - val_accuracy: 0.7225\n",
      "Epoch 82/100\n",
      "44/44 [==============================] - 0s 2ms/step - loss: 0.5400 - accuracy: 0.6867 - val_loss: 0.5167 - val_accuracy: 0.7283\n",
      "Epoch 83/100\n",
      "44/44 [==============================] - 0s 2ms/step - loss: 0.5379 - accuracy: 0.6939 - val_loss: 0.5191 - val_accuracy: 0.7283\n",
      "Epoch 84/100\n",
      "44/44 [==============================] - 0s 2ms/step - loss: 0.5369 - accuracy: 0.7033 - val_loss: 0.5161 - val_accuracy: 0.7283\n",
      "Epoch 85/100\n",
      "44/44 [==============================] - 0s 2ms/step - loss: 0.5365 - accuracy: 0.7012 - val_loss: 0.5117 - val_accuracy: 0.7312\n",
      "Epoch 86/100\n",
      "44/44 [==============================] - 0s 2ms/step - loss: 0.5373 - accuracy: 0.7019 - val_loss: 0.5111 - val_accuracy: 0.7254\n",
      "Epoch 87/100\n",
      "44/44 [==============================] - 0s 2ms/step - loss: 0.5327 - accuracy: 0.7004 - val_loss: 0.5147 - val_accuracy: 0.7312\n",
      "Epoch 88/100\n",
      "44/44 [==============================] - 0s 2ms/step - loss: 0.5322 - accuracy: 0.7012 - val_loss: 0.5085 - val_accuracy: 0.7254\n",
      "Epoch 89/100\n",
      "44/44 [==============================] - 0s 2ms/step - loss: 0.5298 - accuracy: 0.6990 - val_loss: 0.5071 - val_accuracy: 0.7283\n",
      "Epoch 90/100\n",
      "44/44 [==============================] - 0s 2ms/step - loss: 0.5336 - accuracy: 0.7084 - val_loss: 0.5126 - val_accuracy: 0.7283\n",
      "Epoch 91/100\n",
      "44/44 [==============================] - 0s 2ms/step - loss: 0.5293 - accuracy: 0.7062 - val_loss: 0.5118 - val_accuracy: 0.7312\n",
      "Epoch 92/100\n",
      "44/44 [==============================] - 0s 2ms/step - loss: 0.5272 - accuracy: 0.7106 - val_loss: 0.5045 - val_accuracy: 0.7341\n",
      "Epoch 93/100\n",
      "44/44 [==============================] - 0s 2ms/step - loss: 0.5249 - accuracy: 0.7106 - val_loss: 0.5023 - val_accuracy: 0.7283\n",
      "Epoch 94/100\n",
      "44/44 [==============================] - 0s 2ms/step - loss: 0.5233 - accuracy: 0.7098 - val_loss: 0.5014 - val_accuracy: 0.7283\n",
      "Epoch 95/100\n",
      "44/44 [==============================] - 0s 2ms/step - loss: 0.5215 - accuracy: 0.7120 - val_loss: 0.5030 - val_accuracy: 0.7457\n",
      "Epoch 96/100\n",
      "44/44 [==============================] - 0s 2ms/step - loss: 0.5209 - accuracy: 0.7142 - val_loss: 0.5003 - val_accuracy: 0.7399\n",
      "Epoch 97/100\n",
      "44/44 [==============================] - 0s 2ms/step - loss: 0.5194 - accuracy: 0.7164 - val_loss: 0.5003 - val_accuracy: 0.7312\n",
      "Epoch 98/100\n",
      "44/44 [==============================] - 0s 2ms/step - loss: 0.5176 - accuracy: 0.7149 - val_loss: 0.4999 - val_accuracy: 0.7370\n",
      "Epoch 99/100\n",
      "44/44 [==============================] - 0s 2ms/step - loss: 0.5189 - accuracy: 0.7127 - val_loss: 0.5018 - val_accuracy: 0.7312\n",
      "Epoch 100/100\n",
      "44/44 [==============================] - 0s 2ms/step - loss: 0.5139 - accuracy: 0.7200 - val_loss: 0.4940 - val_accuracy: 0.7370\n",
      "11/11 [==============================] - 0s 900us/step\n"
     ]
    }
   ],
   "source": [
    "model_history=model.fit(x=X_train, y=y_train, epochs=100, batch_size=32,validation_data= (X_test,y_test))\n",
    "y_pred = model.predict(X_test)\n",
    "\n",
    "y_test_class = np.argmax(y_test,axis=1)\n",
    "y_pred_class = np.argmax(y_pred,axis=1)"
   ]
  },
  {
   "cell_type": "code",
   "execution_count": 17,
   "metadata": {},
   "outputs": [
    {
     "data": {
      "image/png": "[encoded data removed]",
      "text/plain": [
       "<Figure size 640x480 with 1 Axes>"
      ]
     },
     "metadata": {},
     "output_type": "display_data"
    }
   ],
   "source": [
    "import matplotlib.pyplot as plt\n",
    "import seaborn as sns\n",
    "\n",
    "loss =model_history.history['loss']\n",
    "val_loss =model_history.history['val_loss']\n",
    "epochs = range(1, len(loss) + 1)\n",
    "plt.plot(epochs, loss, 'y', label='Training loss')\n",
    "plt.plot(epochs, val_loss, 'r', label='Validation loss')\n",
    "plt.title('Training and validation loss')\n",
    "plt.xlabel('Epochs')\n",
    "plt.ylabel('Loss')\n",
    "plt.legend()\n",
    "plt.show()"
   ]
  },
  {
   "cell_type": "code",
   "execution_count": 18,
   "metadata": {},
   "outputs": [
    {
     "data": {
      "image/png": "[encoded data removed]",
      "text/plain": [
       "<Figure size 640x480 with 1 Axes>"
      ]
     },
     "metadata": {},
     "output_type": "display_data"
    }
   ],
   "source": [
    "acc =model_history.history['accuracy']\n",
    "val_acc =model_history.history['val_accuracy']\n",
    "plt.plot(epochs, acc, 'y', label='Training acc')\n",
    "plt.plot(epochs, val_acc, 'r', label='Validation acc')\n",
    "plt.title('Training and validation accuracy')\n",
    "plt.xlabel('Epochs')\n",
    "plt.ylabel('Accuracy')\n",
    "plt.legend()\n",
    "plt.show()"
   ]
  },
  {
   "cell_type": "code",
   "execution_count": 19,
   "metadata": {},
   "outputs": [
    {
     "name": "stdout",
     "output_type": "stream",
     "text": [
      "              precision    recall  f1-score   support\n",
      "\n",
      "           0       0.45      0.39      0.42        71\n",
      "           1       0.00      0.00      0.00        15\n",
      "           2       0.82      0.89      0.85       251\n",
      "           3       0.31      0.44      0.36         9\n",
      "\n",
      "    accuracy                           0.74       346\n",
      "   macro avg       0.40      0.43      0.41       346\n",
      "weighted avg       0.70      0.74      0.72       346\n",
      "\n",
      "[[ 28   0  43   0]\n",
      " [  9   0   3   3]\n",
      " [ 22   0 223   6]\n",
      " [  3   0   2   4]]\n"
     ]
    },
    {
     "name": "stderr",
     "output_type": "stream",
     "text": [
      "c:\\Users\\user\\AppData\\Local\\Programs\\Python\\Python310\\lib\\site-packages\\sklearn\\metrics\\_classification.py:1469: UndefinedMetricWarning: Precision and F-score are ill-defined and being set to 0.0 in labels with no predicted samples. Use `zero_division` parameter to control this behavior.\n",
      "  _warn_prf(average, modifier, msg_start, len(result))\n",
      "c:\\Users\\user\\AppData\\Local\\Programs\\Python\\Python310\\lib\\site-packages\\sklearn\\metrics\\_classification.py:1469: UndefinedMetricWarning: Precision and F-score are ill-defined and being set to 0.0 in labels with no predicted samples. Use `zero_division` parameter to control this behavior.\n",
      "  _warn_prf(average, modifier, msg_start, len(result))\n",
      "c:\\Users\\user\\AppData\\Local\\Programs\\Python\\Python310\\lib\\site-packages\\sklearn\\metrics\\_classification.py:1469: UndefinedMetricWarning: Precision and F-score are ill-defined and being set to 0.0 in labels with no predicted samples. Use `zero_division` parameter to control this behavior.\n",
      "  _warn_prf(average, modifier, msg_start, len(result))\n"
     ]
    }
   ],
   "source": [
    "#Accuracy of the predicted values\n",
    "from sklearn.metrics import classification_report,confusion_matrix\n",
    "print(classification_report(y_test_class,y_pred_class))\n",
    "print(confusion_matrix(y_test_class,y_pred_class))"
   ]
  },
  {
   "cell_type": "code",
   "execution_count": 20,
   "metadata": {},
   "outputs": [
    {
     "name": "stdout",
     "output_type": "stream",
     "text": [
      "0.7369942196531792\n"
     ]
    }
   ],
   "source": [
    "from sklearn.metrics import f1_score\n",
    "print(f1_score(y_test_class,y_pred_class, average='micro'))"
   ]
  }
 ],
 "metadata": {
  "kernelspec": {
   "display_name": "Python 3",
   "language": "python",
   "name": "python3"
  },
  "language_info": {
   "codemirror_mode": {
    "name": "ipython",
    "version": 3
   },
   "file_extension": ".py",
   "mimetype": "text/x-python",
   "name": "python",
   "nbconvert_exporter": "python",
   "pygments_lexer": "ipython3",
   "version": "3.10.7"
  },
  "orig_nbformat": 4
 },
 "nbformat": 4,
 "nbformat_minor": 2
}
