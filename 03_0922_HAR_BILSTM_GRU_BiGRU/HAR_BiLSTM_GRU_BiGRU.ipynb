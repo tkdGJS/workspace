{
 "cells": [
  {
   "cell_type": "code",
   "execution_count": 1,
   "metadata": {},
   "outputs": [],
   "source": [
    "import numpy as np\n",
    "import pandas as pd\n",
    "from tensorflow.keras.utils import to_categorical\n",
    "import matplotlib.pyplot as plt\n",
    "import seaborn as sns\n",
    "\n",
    "\n",
    "def load_file(filepath):\n",
    "    dataframe = pd.read_csv(filepath, header=None, delim_whitespace=True)\n",
    "    return dataframe.values\n",
    "\n",
    "# load a list of files and return as a 3d numpy array\n",
    "def load_group(filenames, prefix=''):\n",
    "    loaded = list()\n",
    "    for name in filenames:\n",
    "        data = load_file(prefix + name)\n",
    "        loaded.append(data)\n",
    "    # stack group so that features are the 3rd dimension\n",
    "    loaded = np.dstack(loaded)\n",
    "    return loaded\n",
    "\n",
    "# load a dataset group, such as train or test\n",
    "def load_dataset_group(group, prefix=''):\n",
    "    filepath = prefix + group + '/Inertial Signals/'\n",
    "    # load all 9 files as a single array\n",
    "    filenames = list()\n",
    "    # total acceleration\n",
    "    filenames += ['total_acc_x_'+group+'.txt', 'total_acc_y_'+group+'.txt', 'total_acc_z_'+group+'.txt']\n",
    "    # body acceleration\n",
    "    filenames += ['body_acc_x_'+group+'.txt', 'body_acc_y_'+group+'.txt', 'body_acc_z_'+group+'.txt']\n",
    "    # body gyroscope\n",
    "    filenames += ['body_gyro_x_'+group+'.txt', 'body_gyro_y_'+group+'.txt', 'body_gyro_z_'+group+'.txt']\n",
    "    # load input data\n",
    "    X = load_group(filenames, filepath)\n",
    "    # load class output\n",
    "    y = load_file(prefix + group + '/y_'+group+'.txt')\n",
    "    return X, y\n",
    "\n",
    "\n",
    "# load the dataset, returns train and test X and y elements\n",
    "def load_dataset(prefix=''):\n",
    "    # load all train\n",
    "    trainX, trainy = load_dataset_group('train', prefix + './HAR/UCI/')\n",
    "    # load all test\n",
    "    testX, testy = load_dataset_group('test', prefix + './HAR/UCI/')\n",
    "    \n",
    "    #zero-offset class values\n",
    "    trainy = trainy - 1\n",
    "    testy = testy - 1\n",
    "    #one hot encode y\n",
    "    trainy_one_hot = to_categorical(trainy)\n",
    "    testy_one_hot = to_categorical(testy)\n",
    "    print(trainX.shape, trainy.shape, trainy_one_hot.shape, testX.shape, testy.shape, testy_one_hot.shape)\n",
    "    return trainX, trainy, trainy_one_hot, testX, testy, testy_one_hot"
   ]
  },
  {
   "cell_type": "code",
   "execution_count": 2,
   "metadata": {},
   "outputs": [
    {
     "name": "stdout",
     "output_type": "stream",
     "text": [
      "(7352, 128, 9) (7352, 1) (7352, 6) (2947, 128, 9) (2947, 1) (2947, 6)\n"
     ]
    }
   ],
   "source": [
    "X_train, y_train, y_train_one_hot, X_test, y_test, y_test_one_hot = load_dataset()"
   ]
  },
  {
   "cell_type": "code",
   "execution_count": 3,
   "metadata": {},
   "outputs": [],
   "source": [
    "n_timesteps, n_features, n_outputs = X_train.shape[1], X_train.shape[2], y_train_one_hot.shape[1]"
   ]
  },
  {
   "cell_type": "code",
   "execution_count": 4,
   "metadata": {},
   "outputs": [
    {
     "data": {
      "text/plain": [
       "(128, 9, 6)"
      ]
     },
     "execution_count": 4,
     "metadata": {},
     "output_type": "execute_result"
    }
   ],
   "source": [
    "n_timesteps, n_features, n_outputs"
   ]
  },
  {
   "cell_type": "code",
   "execution_count": 5,
   "metadata": {},
   "outputs": [
    {
     "name": "stdout",
     "output_type": "stream",
     "text": [
      "Epoch 1/10\n",
      "230/230 [==============================] - 12s 41ms/step - loss: 1.0417 - accuracy: 0.5721 - val_loss: 0.9145 - val_accuracy: 0.6111\n",
      "Epoch 2/10\n",
      "230/230 [==============================] - 9s 38ms/step - loss: 0.6493 - accuracy: 0.7482 - val_loss: 0.5820 - val_accuracy: 0.7900\n",
      "Epoch 3/10\n",
      "230/230 [==============================] - 9s 39ms/step - loss: 0.5047 - accuracy: 0.8130 - val_loss: 0.5462 - val_accuracy: 0.7754\n",
      "Epoch 4/10\n",
      "230/230 [==============================] - 9s 39ms/step - loss: 0.3433 - accuracy: 0.8749 - val_loss: 0.4490 - val_accuracy: 0.8351\n",
      "Epoch 5/10\n",
      "230/230 [==============================] - 9s 39ms/step - loss: 0.2426 - accuracy: 0.9172 - val_loss: 0.4245 - val_accuracy: 0.8561\n",
      "Epoch 6/10\n",
      "230/230 [==============================] - 9s 39ms/step - loss: 0.2373 - accuracy: 0.9196 - val_loss: 0.3321 - val_accuracy: 0.8789\n",
      "Epoch 7/10\n",
      "230/230 [==============================] - 9s 40ms/step - loss: 0.2214 - accuracy: 0.9204 - val_loss: 0.4222 - val_accuracy: 0.8633\n",
      "Epoch 8/10\n",
      "230/230 [==============================] - 10s 44ms/step - loss: 0.1979 - accuracy: 0.9339 - val_loss: 0.4723 - val_accuracy: 0.8677\n",
      "Epoch 9/10\n",
      "230/230 [==============================] - 10s 43ms/step - loss: 0.2136 - accuracy: 0.9180 - val_loss: 0.3195 - val_accuracy: 0.8921\n",
      "Epoch 10/10\n",
      "230/230 [==============================] - 9s 40ms/step - loss: 0.3273 - accuracy: 0.8811 - val_loss: 0.4153 - val_accuracy: 0.8724\n",
      "93/93 [==============================] - 1s 13ms/step - loss: 0.4153 - accuracy: 0.8724\n",
      "Test Loss: 0.4152751564979553, Test Accuracy: 0.8724126219749451\n"
     ]
    }
   ],
   "source": [
    "from tensorflow.keras.layers import Input, Bidirectional, LSTM, Dense\n",
    "from tensorflow.keras.models import Model\n",
    "from tensorflow.keras.utils import to_categorical\n",
    "\n",
    "# BiLSTM 모델 생성\n",
    "# 입력 시퀀스는 X_train의 길이만큼 설정\n",
    "input_layer = Input(shape=(X_train.shape[1], X_train.shape[2]))\n",
    "bi_lstm = Bidirectional(LSTM(64))(input_layer)\n",
    "output_layer = Dense(y_train_one_hot.shape[1], activation='softmax')(bi_lstm)\n",
    "\n",
    "BiLSTM_model = Model(inputs=input_layer, outputs=output_layer)\n",
    "BiLSTM_model.compile(optimizer='adam', loss='categorical_crossentropy', metrics=['accuracy'])\n",
    "\n",
    "# 모델 훈련\n",
    "BiLSTM_model.fit(X_train, y_train_one_hot, epochs=10, batch_size=32, validation_data=(X_test, y_test_one_hot))\n",
    "\n",
    "# 모델 평가\n",
    "loss, accuracy = BiLSTM_model.evaluate(X_test, y_test_one_hot)\n",
    "print(f\"Test Loss: {loss}, Test Accuracy: {accuracy}\")"
   ]
  },
  {
   "cell_type": "code",
   "execution_count": 6,
   "metadata": {},
   "outputs": [
    {
     "name": "stdout",
     "output_type": "stream",
     "text": [
      "Epoch 1/10\n",
      "230/230 [==============================] - 9s 34ms/step - loss: 1.1670 - accuracy: 0.5135 - val_loss: 1.2373 - val_accuracy: 0.5226\n",
      "Epoch 2/10\n",
      "230/230 [==============================] - 7s 32ms/step - loss: 0.7476 - accuracy: 0.6873 - val_loss: 0.7382 - val_accuracy: 0.7272\n",
      "Epoch 3/10\n",
      "230/230 [==============================] - 8s 33ms/step - loss: 0.4211 - accuracy: 0.8541 - val_loss: 0.4705 - val_accuracy: 0.8164\n",
      "Epoch 4/10\n",
      "230/230 [==============================] - 8s 34ms/step - loss: 0.1819 - accuracy: 0.9317 - val_loss: 0.3373 - val_accuracy: 0.8829\n",
      "Epoch 5/10\n",
      "230/230 [==============================] - 8s 34ms/step - loss: 0.1568 - accuracy: 0.9395 - val_loss: 0.3287 - val_accuracy: 0.8992\n",
      "Epoch 6/10\n",
      "230/230 [==============================] - 8s 36ms/step - loss: 0.1382 - accuracy: 0.9421 - val_loss: 0.3330 - val_accuracy: 0.8931\n",
      "Epoch 7/10\n",
      "230/230 [==============================] - 8s 36ms/step - loss: 0.1279 - accuracy: 0.9501 - val_loss: 0.3188 - val_accuracy: 0.8982\n",
      "Epoch 8/10\n",
      "230/230 [==============================] - 9s 37ms/step - loss: 0.1229 - accuracy: 0.9498 - val_loss: 0.3269 - val_accuracy: 0.8911\n",
      "Epoch 9/10\n",
      "230/230 [==============================] - 10s 43ms/step - loss: 0.1191 - accuracy: 0.9478 - val_loss: 0.3353 - val_accuracy: 0.8945\n",
      "Epoch 10/10\n",
      "230/230 [==============================] - 9s 40ms/step - loss: 0.1343 - accuracy: 0.9476 - val_loss: 0.2822 - val_accuracy: 0.9155\n",
      "93/93 [==============================] - 1s 10ms/step - loss: 0.2822 - accuracy: 0.9155\n",
      "Test Loss: 0.28224363923072815, Test Accuracy: 0.9155073165893555\n"
     ]
    }
   ],
   "source": [
    "import numpy as np\n",
    "from tensorflow.keras.layers import Input, GRU, Dense\n",
    "from tensorflow.keras.models import Model\n",
    "from tensorflow.keras.utils import to_categorical\n",
    "\n",
    "# GRU 모델 생성\n",
    "input_layer = Input(shape=(X_train.shape[1], X_train.shape[2]))\n",
    "gru_layer = GRU(64)(input_layer)\n",
    "output_layer = Dense(y_train_one_hot.shape[1], activation='softmax')(gru_layer)\n",
    "\n",
    "GRU_model = Model(inputs=input_layer, outputs=output_layer)\n",
    "GRU_model.compile(optimizer='adam', loss='categorical_crossentropy', metrics=['accuracy'])\n",
    "\n",
    "# 모델 훈련\n",
    "GRU_model.fit(X_train, y_train_one_hot, epochs=10, batch_size=32, validation_data=(X_test, y_test_one_hot))\n",
    "\n",
    "# 모델 평가\n",
    "loss, accuracy = GRU_model.evaluate(X_test, y_test_one_hot)\n",
    "print(f\"Test Loss: {loss}, Test Accuracy: {accuracy}\")\n"
   ]
  },
  {
   "cell_type": "code",
   "execution_count": 7,
   "metadata": {},
   "outputs": [
    {
     "name": "stdout",
     "output_type": "stream",
     "text": [
      "Epoch 1/10\n",
      "230/230 [==============================] - 13s 43ms/step - loss: 1.1143 - accuracy: 0.5426 - val_loss: 1.0131 - val_accuracy: 0.5765\n",
      "Epoch 2/10\n",
      "230/230 [==============================] - 9s 37ms/step - loss: 0.5079 - accuracy: 0.7982 - val_loss: 0.5431 - val_accuracy: 0.8073\n",
      "Epoch 3/10\n",
      "230/230 [==============================] - 9s 37ms/step - loss: 0.2751 - accuracy: 0.9027 - val_loss: 0.3571 - val_accuracy: 0.8894\n",
      "Epoch 4/10\n",
      "230/230 [==============================] - 8s 37ms/step - loss: 0.1609 - accuracy: 0.9389 - val_loss: 0.4167 - val_accuracy: 0.8761\n",
      "Epoch 5/10\n",
      "230/230 [==============================] - 9s 37ms/step - loss: 0.1477 - accuracy: 0.9415 - val_loss: 0.3303 - val_accuracy: 0.8870\n",
      "Epoch 6/10\n",
      "230/230 [==============================] - 9s 37ms/step - loss: 0.1377 - accuracy: 0.9441 - val_loss: 0.3115 - val_accuracy: 0.8867\n",
      "Epoch 7/10\n",
      "230/230 [==============================] - 8s 37ms/step - loss: 0.1316 - accuracy: 0.9455 - val_loss: 0.3069 - val_accuracy: 0.9033\n",
      "Epoch 8/10\n",
      "230/230 [==============================] - 9s 39ms/step - loss: 0.1265 - accuracy: 0.9508 - val_loss: 0.3873 - val_accuracy: 0.8975\n",
      "Epoch 9/10\n",
      "230/230 [==============================] - 9s 38ms/step - loss: 0.1180 - accuracy: 0.9513 - val_loss: 0.4186 - val_accuracy: 0.8792\n",
      "Epoch 10/10\n",
      "230/230 [==============================] - 9s 38ms/step - loss: 0.1392 - accuracy: 0.9461 - val_loss: 0.2751 - val_accuracy: 0.8951\n",
      "93/93 [==============================] - 1s 10ms/step - loss: 0.2751 - accuracy: 0.8951\n",
      "Test Loss: 0.2750893533229828, Test Accuracy: 0.8951476216316223\n"
     ]
    }
   ],
   "source": [
    "import numpy as np\n",
    "from tensorflow.keras.layers import Input, Bidirectional, GRU, Dense\n",
    "from tensorflow.keras.models import Model\n",
    "from tensorflow.keras.utils import to_categorical\n",
    "\n",
    "# BiGRU 모델 생성\n",
    "input_layer = Input(shape=(X_train.shape[1], X_train.shape[2]))\n",
    "bigru_layer = Bidirectional(GRU(64))(input_layer)\n",
    "output_layer = Dense(y_train_one_hot.shape[1], activation='softmax')(bigru_layer)\n",
    "\n",
    "BiGRU_model = Model(inputs=input_layer, outputs=output_layer)\n",
    "BiGRU_model.compile(optimizer='adam', loss='categorical_crossentropy', metrics=['accuracy'])\n",
    "\n",
    "# 모델 훈련\n",
    "BiGRU_model.fit(X_train, y_train_one_hot, epochs=10, batch_size=32, validation_data=(X_test, y_test_one_hot))\n",
    "\n",
    "# 모델 평가\n",
    "loss, accuracy = BiGRU_model.evaluate(X_test, y_test_one_hot)\n",
    "print(f\"Test Loss: {loss}, Test Accuracy: {accuracy}\")\n"
   ]
  }
 ],
 "metadata": {
  "kernelspec": {
   "display_name": "Python 3",
   "language": "python",
   "name": "python3"
  },
  "language_info": {
   "codemirror_mode": {
    "name": "ipython",
    "version": 3
   },
   "file_extension": ".py",
   "mimetype": "text/x-python",
   "name": "python",
   "nbconvert_exporter": "python",
   "pygments_lexer": "ipython3",
   "version": "3.10.7"
  },
  "orig_nbformat": 4
 },
 "nbformat": 4,
 "nbformat_minor": 2
}
